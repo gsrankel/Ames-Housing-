{
 "cells": [
  {
   "cell_type": "markdown",
   "metadata": {},
   "source": [
    "# Project 3: Web APIs & NLP"
   ]
  },
  {
   "cell_type": "markdown",
   "metadata": {},
   "source": [
    "__By: Gregory Rankel__"
   ]
  },
  {
   "cell_type": "markdown",
   "metadata": {},
   "source": [
    "## Problem Statement "
   ]
  },
  {
   "cell_type": "markdown",
   "metadata": {},
   "source": [
    "I currently work in the marketing department of the MLS and as part of our new expansion plan into Europe, we are looking to roll out a new marketing campaign by searching through peoples social media post and hashtags as a means growing the popularity of the MLS. In Europe however, Football means both Soccer and American Football due to the increasing expansion of the NFL overseas. Can I building a predictive model using the NFL and football reddit's to distinguish which type of football people are talking about and reach out to the ones interested in watching football?\n",
    "\n",
    "We will run various classification models during our testing such as Bayes classifier, Logestic Regression, KNN, and CART's. To score these, we will be looking at Accuracy as a means of scoring and determining which model we will be selecting here. "
   ]
  },
  {
   "cell_type": "markdown",
   "metadata": {},
   "source": [
    "## Executive Summary:"
   ]
  },
  {
   "cell_type": "markdown",
   "metadata": {},
   "source": [
    "When being tasked with this project, I had to go out on our own and find two different subreddit pages: one that talked about Football and one that talked about American Football. Browsing through the football community for a page to use, I was able to settle upon the football subreddit on one page that we would be able to pull information. When it came to finding the American Football subreddit, I was unable to use their page due to the inappropriate language that I was reading through when it came to the titles. I then decided it would be best to use the NFL page as a means of me gathering my data. From there, we were able to pull the information through the API that subreddit has to offer and extract the text we were looking for in a concatenated Data Frame (df).\n",
    "\n",
    "After creating our df, we then had to start our cleaning process of dropping unnecessary columns as well as cleaning up our text. We started by dropping columns that had unnecessary features as well as any duplicates that were in the dataset. This then brought us to 6 columns that I believe can add value to our dataset. After lowering, splitting, and Porter Stemming our Dataset, we then had a Data set that was ready to be analyzed. We looked at most common words through our Count Vectorizer and which words were important in our Tfidf Vectorizer. After gaging what words stood out, we were ready to run our models and evaluate the data given."
   ]
  },
  {
   "cell_type": "markdown",
   "metadata": {},
   "source": [
    "## Table of Contents"
   ]
  },
  {
   "cell_type": "markdown",
   "metadata": {},
   "source": [
    "- [1.4. Loading Libraries & Data](#Loading_Libraries_&_Data)\n",
    "- [1.5. Data Dictionary ](#Data_Dictionary)\n",
    "- [1.6. Preliminary EDA](#Preliminary-EDA)\n",
    "- [1.7. Data Cleaning](#Data-Cleaning)\n",
    "- [1.8. Exploratory Data Analysis (EDA)](#Exploratory_Data_Analysis_(EDA))\n",
    "- [1.9. Model Preperation](#Model_Preperation)\n",
    "- [1.10. Modeling](#Modeling)\n",
    "- [1.11. Model Selection](#Model_Selection)\n",
    "- [1.12. Model Evaluation](#Model_Evaluation)\n",
    "- [1.13. Conclusion](#Conclusion)\n",
    "- [1.14. Recommendations](#Recommendations)\n",
    "- [1.15. References](#References)"
   ]
  },
  {
   "cell_type": "markdown",
   "metadata": {},
   "source": [
    "## Loading Libraries & Data"
   ]
  },
  {
   "cell_type": "code",
   "execution_count": 4,
   "metadata": {},
   "outputs": [],
   "source": [
    "import seaborn as sns\n",
    "import matplotlib.pyplot as plt\n",
    "import pandas as pd\n",
    "import numpy as np\n",
    "from sklearn.model_selection import train_test_split, GridSearchCV, cross_val_score\n",
    "from sklearn.pipeline import Pipeline\n",
    "from sklearn.pipeline import FeatureUnion\n",
    "from sklearn.linear_model import LogisticRegression\n",
    "from sklearn.neighbors import KNeighborsClassifier\n",
    "from sklearn.metrics import confusion_matrix\n",
    "from sklearn.metrics import roc_auc_score\n",
    "from sklearn.preprocessing import StandardScaler\n",
    "from sklearn.feature_extraction.text import CountVectorizer, TfidfVectorizer\n",
    "import nltk\n",
    "from nltk.collocations import ngrams\n",
    "from nltk.stem import WordNetLemmatizer, PorterStemmer\n",
    "from nltk.tokenize import RegexpTokenizer\n",
    "import regex as re\n",
    "from bs4 import BeautifulSoup \n",
    "from nltk.corpus import stopwords\n",
    "from sklearn.naive_bayes import MultinomialNB, GaussianNB,  BernoulliNB\n",
    "from sklearn.tree import DecisionTreeClassifier, DecisionTreeRegressor"
   ]
  },
  {
   "cell_type": "code",
   "execution_count": 5,
   "metadata": {},
   "outputs": [],
   "source": [
    "df = pd.read_csv('scrapped_df.csv', index_col= 0)"
   ]
  },
  {
   "cell_type": "markdown",
   "metadata": {},
   "source": [
    "## Data Dictionary "
   ]
  },
  {
   "cell_type": "markdown",
   "metadata": {},
   "source": [
    "|Feature|Type|Dataset|Description|\n",
    "|---|---|---|---|\n",
    "|**title**|*Object*|Final Data Frame|Comment in post being made| \n",
    "|**selftext**|*Object*|Final Data Frame|Text that doesn't link outside of reddit|\n",
    "|**subreddit**|*Object*|Final Data Frame|Community within reddit|\n",
    "|**author**|*Object*|Final Data Frame|Person who is publishing post within subreddit|\n",
    "|**num_comments**|*Integer*|Final Data Frame|How many comments the post gathered.|\n",
    "|**timestamp**|*Object*|Final Data Frame|Date of the post|\n",
    "|**clean_title**|*Object*|Final Data Frame|Title words after being cleaned and Porter Stemmed|\n"
   ]
  },
  {
   "cell_type": "markdown",
   "metadata": {},
   "source": [
    "## Preliminary EDA"
   ]
  },
  {
   "cell_type": "markdown",
   "metadata": {},
   "source": [
    "For Preliminary EDA, I just wanted to get a basic overview of the data being brought in from the API and gage the columns that we have. We wanted to see any statstics and null values on the data and see if anything stuck out. "
   ]
  },
  {
   "cell_type": "code",
   "execution_count": 6,
   "metadata": {},
   "outputs": [
    {
     "data": {
      "text/html": [
       "<div>\n",
       "<style scoped>\n",
       "    .dataframe tbody tr th:only-of-type {\n",
       "        vertical-align: middle;\n",
       "    }\n",
       "\n",
       "    .dataframe tbody tr th {\n",
       "        vertical-align: top;\n",
       "    }\n",
       "\n",
       "    .dataframe thead th {\n",
       "        text-align: right;\n",
       "    }\n",
       "</style>\n",
       "<table border=\"1\" class=\"dataframe\">\n",
       "  <thead>\n",
       "    <tr style=\"text-align: right;\">\n",
       "      <th></th>\n",
       "      <th>title</th>\n",
       "      <th>selftext</th>\n",
       "      <th>subreddit</th>\n",
       "      <th>author</th>\n",
       "      <th>num_comments</th>\n",
       "      <th>timestamp</th>\n",
       "    </tr>\n",
       "  </thead>\n",
       "  <tbody>\n",
       "    <tr>\n",
       "      <th>0</th>\n",
       "      <td>Who is free to help out with a sacko punishment?</td>\n",
       "      <td>Amazon gift card in it for yall haha\\n\\nwe hav...</td>\n",
       "      <td>nfl</td>\n",
       "      <td>spicyboy2727</td>\n",
       "      <td>13</td>\n",
       "      <td>2020-01-12</td>\n",
       "    </tr>\n",
       "    <tr>\n",
       "      <th>3</th>\n",
       "      <td>TIL The President of the NFL Hall of Fame is a...</td>\n",
       "      <td>[removed]</td>\n",
       "      <td>nfl</td>\n",
       "      <td>No_Cat_No_Cradle</td>\n",
       "      <td>0</td>\n",
       "      <td>2020-01-12</td>\n",
       "    </tr>\n",
       "    <tr>\n",
       "      <th>6</th>\n",
       "      <td>The Browns are like the rich kid who got all t...</td>\n",
       "      <td>NaN</td>\n",
       "      <td>nfl</td>\n",
       "      <td>RuneSlayer4421</td>\n",
       "      <td>3</td>\n",
       "      <td>2020-01-12</td>\n",
       "    </tr>\n",
       "    <tr>\n",
       "      <th>7</th>\n",
       "      <td>14 years later, Norv Turner's prediction of Ji...</td>\n",
       "      <td>During Troy Aikman's Hall of Fame enshrinement...</td>\n",
       "      <td>nfl</td>\n",
       "      <td>DraymondShldntWear23</td>\n",
       "      <td>3</td>\n",
       "      <td>2020-01-12</td>\n",
       "    </tr>\n",
       "    <tr>\n",
       "      <th>9</th>\n",
       "      <td>Is Jadeveon Clowney the dirtiest player in the...</td>\n",
       "      <td>After another dirty play from him today and th...</td>\n",
       "      <td>nfl</td>\n",
       "      <td>MikeG1990</td>\n",
       "      <td>21</td>\n",
       "      <td>2020-01-12</td>\n",
       "    </tr>\n",
       "  </tbody>\n",
       "</table>\n",
       "</div>"
      ],
      "text/plain": [
       "                                               title  \\\n",
       "0   Who is free to help out with a sacko punishment?   \n",
       "3  TIL The President of the NFL Hall of Fame is a...   \n",
       "6  The Browns are like the rich kid who got all t...   \n",
       "7  14 years later, Norv Turner's prediction of Ji...   \n",
       "9  Is Jadeveon Clowney the dirtiest player in the...   \n",
       "\n",
       "                                            selftext subreddit  \\\n",
       "0  Amazon gift card in it for yall haha\\n\\nwe hav...       nfl   \n",
       "3                                          [removed]       nfl   \n",
       "6                                                NaN       nfl   \n",
       "7  During Troy Aikman's Hall of Fame enshrinement...       nfl   \n",
       "9  After another dirty play from him today and th...       nfl   \n",
       "\n",
       "                 author  num_comments   timestamp  \n",
       "0          spicyboy2727            13  2020-01-12  \n",
       "3      No_Cat_No_Cradle             0  2020-01-12  \n",
       "6        RuneSlayer4421             3  2020-01-12  \n",
       "7  DraymondShldntWear23             3  2020-01-12  \n",
       "9             MikeG1990            21  2020-01-12  "
      ]
     },
     "execution_count": 6,
     "metadata": {},
     "output_type": "execute_result"
    }
   ],
   "source": [
    "df.head()"
   ]
  },
  {
   "cell_type": "code",
   "execution_count": 7,
   "metadata": {},
   "outputs": [
    {
     "data": {
      "text/plain": [
       "(4692, 6)"
      ]
     },
     "execution_count": 7,
     "metadata": {},
     "output_type": "execute_result"
    }
   ],
   "source": [
    "df.shape"
   ]
  },
  {
   "cell_type": "code",
   "execution_count": 8,
   "metadata": {},
   "outputs": [
    {
     "data": {
      "text/html": [
       "<div>\n",
       "<style scoped>\n",
       "    .dataframe tbody tr th:only-of-type {\n",
       "        vertical-align: middle;\n",
       "    }\n",
       "\n",
       "    .dataframe tbody tr th {\n",
       "        vertical-align: top;\n",
       "    }\n",
       "\n",
       "    .dataframe thead th {\n",
       "        text-align: right;\n",
       "    }\n",
       "</style>\n",
       "<table border=\"1\" class=\"dataframe\">\n",
       "  <thead>\n",
       "    <tr style=\"text-align: right;\">\n",
       "      <th></th>\n",
       "      <th>num_comments</th>\n",
       "    </tr>\n",
       "  </thead>\n",
       "  <tbody>\n",
       "    <tr>\n",
       "      <th>count</th>\n",
       "      <td>4692.000000</td>\n",
       "    </tr>\n",
       "    <tr>\n",
       "      <th>mean</th>\n",
       "      <td>79.693947</td>\n",
       "    </tr>\n",
       "    <tr>\n",
       "      <th>std</th>\n",
       "      <td>622.109322</td>\n",
       "    </tr>\n",
       "    <tr>\n",
       "      <th>min</th>\n",
       "      <td>0.000000</td>\n",
       "    </tr>\n",
       "    <tr>\n",
       "      <th>25%</th>\n",
       "      <td>0.000000</td>\n",
       "    </tr>\n",
       "    <tr>\n",
       "      <th>50%</th>\n",
       "      <td>5.000000</td>\n",
       "    </tr>\n",
       "    <tr>\n",
       "      <th>75%</th>\n",
       "      <td>29.000000</td>\n",
       "    </tr>\n",
       "    <tr>\n",
       "      <th>max</th>\n",
       "      <td>28192.000000</td>\n",
       "    </tr>\n",
       "  </tbody>\n",
       "</table>\n",
       "</div>"
      ],
      "text/plain": [
       "       num_comments\n",
       "count   4692.000000\n",
       "mean      79.693947\n",
       "std      622.109322\n",
       "min        0.000000\n",
       "25%        0.000000\n",
       "50%        5.000000\n",
       "75%       29.000000\n",
       "max    28192.000000"
      ]
     },
     "execution_count": 8,
     "metadata": {},
     "output_type": "execute_result"
    }
   ],
   "source": [
    "df.describe()"
   ]
  },
  {
   "cell_type": "code",
   "execution_count": 9,
   "metadata": {},
   "outputs": [
    {
     "data": {
      "text/plain": [
       "title           object\n",
       "selftext        object\n",
       "subreddit       object\n",
       "author          object\n",
       "num_comments     int64\n",
       "timestamp       object\n",
       "dtype: object"
      ]
     },
     "execution_count": 9,
     "metadata": {},
     "output_type": "execute_result"
    }
   ],
   "source": [
    "df.dtypes"
   ]
  },
  {
   "cell_type": "code",
   "execution_count": 10,
   "metadata": {},
   "outputs": [
    {
     "data": {
      "text/plain": [
       "title             0\n",
       "selftext        581\n",
       "subreddit         0\n",
       "author            0\n",
       "num_comments      0\n",
       "timestamp         0\n",
       "dtype: int64"
      ]
     },
     "execution_count": 10,
     "metadata": {},
     "output_type": "execute_result"
    }
   ],
   "source": [
    "df.isnull().sum()"
   ]
  },
  {
   "cell_type": "markdown",
   "metadata": {},
   "source": [
    "## Data Cleaning"
   ]
  },
  {
   "cell_type": "markdown",
   "metadata": {},
   "source": [
    "For Data Cleaning, several steps were taken within the data gathering notebook such as dropping unecessary columns and duplicates from our data. Please see it github link to binder. We first filled in all the null values within the 'selftext' column as 'empty' to signify nothing was inputted for that columns. We then decided to use Porter Stemmer as a means of cleaning the words within the reddits because with the Porter Stemmer method, it is a little more particular in words in looking for words that are possibly mispelled so with the vast amount of words the it will be searching for, itll be able to look through all the text and return the base of the word. To do this though, we can only have lower case text and numbers so we had to remove all grammer punctuations from the text. Finally we mapped our subreddit columns to our positive and negative values with the NFL being our negative value of 0 and Football being our positive value of 1."
   ]
  },
  {
   "cell_type": "code",
   "execution_count": 11,
   "metadata": {},
   "outputs": [],
   "source": [
    "df.fillna('none', inplace = True)"
   ]
  },
  {
   "cell_type": "code",
   "execution_count": 12,
   "metadata": {},
   "outputs": [
    {
     "data": {
      "text/plain": [
       "title           0\n",
       "selftext        0\n",
       "subreddit       0\n",
       "author          0\n",
       "num_comments    0\n",
       "timestamp       0\n",
       "dtype: int64"
      ]
     },
     "execution_count": 12,
     "metadata": {},
     "output_type": "execute_result"
    }
   ],
   "source": [
    "df.isnull().sum()"
   ]
  },
  {
   "cell_type": "code",
   "execution_count": 13,
   "metadata": {},
   "outputs": [],
   "source": [
    " p_stemmer =PorterStemmer()"
   ]
  },
  {
   "cell_type": "code",
   "execution_count": 14,
   "metadata": {},
   "outputs": [],
   "source": [
    "def title_to_words(raw_title):\n",
    "    #read through and pull only letters\n",
    "    letters_only = re.sub(\"[^a-zA-Z0-9]\", \" \", raw_title )\n",
    "    #split words and lowercase\n",
    "    words = letters_only.lower().split()\n",
    "    #convert the stopwords to a set.\n",
    "    stops = set(stopwords.words('english'))\n",
    "    #Remove stopwords.\n",
    "    important_words = [w for w in words if w not in stops]\n",
    "    #Porter Stemmer the important words and return the base\n",
    "    stem = [p_stemmer.stem(word) for word in important_words]\n",
    "    #Join the words back into one string separated by space, \n",
    "    # and return the result.\n",
    "    return(\" \".join(important_words))"
   ]
  },
  {
   "cell_type": "code",
   "execution_count": 15,
   "metadata": {},
   "outputs": [
    {
     "name": "stdout",
     "output_type": "stream",
     "text": [
      "Cleaning and parsing the title...\n",
      "Review 500 of 4692.\n",
      "Review 1000 of 4692.\n",
      "Review 1500 of 4692.\n",
      "Review 2000 of 4692.\n",
      "Review 2500 of 4692.\n",
      "Review 3000 of 4692.\n",
      "Review 3500 of 4692.\n",
      "Review 4000 of 4692.\n",
      "Review 4500 of 4692.\n"
     ]
    }
   ],
   "source": [
    "# Initialize an empty list to hold the clean reviews.\n",
    "total_title = df.shape[0]\n",
    "clean_title = []\n",
    "\n",
    "print(\"Cleaning and parsing the title...\")\n",
    "\n",
    "# Instantiate counter.\n",
    "j = 0\n",
    "\n",
    "# For every review in our training set...\n",
    "for title in df['title']:\n",
    "    \n",
    "    # Convert review to words, then append to clean_train_reviews.\n",
    "    clean_title .append(title_to_words(title))\n",
    "    \n",
    "     # If the index is divisible by 500, print a message.\n",
    "    if (j + 1) % 500 == 0:\n",
    "        print(f'Review {j + 1} of {total_title}.')\n",
    "    \n",
    "    j += 1"
   ]
  },
  {
   "cell_type": "code",
   "execution_count": 16,
   "metadata": {},
   "outputs": [],
   "source": [
    "#add cleaned words to dataframe\n",
    "df['clean_title'] = clean_title"
   ]
  },
  {
   "cell_type": "code",
   "execution_count": 17,
   "metadata": {},
   "outputs": [
    {
     "data": {
      "text/html": [
       "<div>\n",
       "<style scoped>\n",
       "    .dataframe tbody tr th:only-of-type {\n",
       "        vertical-align: middle;\n",
       "    }\n",
       "\n",
       "    .dataframe tbody tr th {\n",
       "        vertical-align: top;\n",
       "    }\n",
       "\n",
       "    .dataframe thead th {\n",
       "        text-align: right;\n",
       "    }\n",
       "</style>\n",
       "<table border=\"1\" class=\"dataframe\">\n",
       "  <thead>\n",
       "    <tr style=\"text-align: right;\">\n",
       "      <th></th>\n",
       "      <th>title</th>\n",
       "      <th>selftext</th>\n",
       "      <th>subreddit</th>\n",
       "      <th>author</th>\n",
       "      <th>num_comments</th>\n",
       "      <th>timestamp</th>\n",
       "      <th>clean_title</th>\n",
       "    </tr>\n",
       "  </thead>\n",
       "  <tbody>\n",
       "    <tr>\n",
       "      <th>0</th>\n",
       "      <td>Who is free to help out with a sacko punishment?</td>\n",
       "      <td>Amazon gift card in it for yall haha\\n\\nwe hav...</td>\n",
       "      <td>nfl</td>\n",
       "      <td>spicyboy2727</td>\n",
       "      <td>13</td>\n",
       "      <td>2020-01-12</td>\n",
       "      <td>free help sacko punishment</td>\n",
       "    </tr>\n",
       "    <tr>\n",
       "      <th>3</th>\n",
       "      <td>TIL The President of the NFL Hall of Fame is a...</td>\n",
       "      <td>[removed]</td>\n",
       "      <td>nfl</td>\n",
       "      <td>No_Cat_No_Cradle</td>\n",
       "      <td>0</td>\n",
       "      <td>2020-01-12</td>\n",
       "      <td>til president nfl hall fame convicted forger</td>\n",
       "    </tr>\n",
       "    <tr>\n",
       "      <th>6</th>\n",
       "      <td>The Browns are like the rich kid who got all t...</td>\n",
       "      <td>none</td>\n",
       "      <td>nfl</td>\n",
       "      <td>RuneSlayer4421</td>\n",
       "      <td>3</td>\n",
       "      <td>2020-01-12</td>\n",
       "      <td>browns like rich kid got cool toys never knew use</td>\n",
       "    </tr>\n",
       "    <tr>\n",
       "      <th>7</th>\n",
       "      <td>14 years later, Norv Turner's prediction of Ji...</td>\n",
       "      <td>During Troy Aikman's Hall of Fame enshrinement...</td>\n",
       "      <td>nfl</td>\n",
       "      <td>DraymondShldntWear23</td>\n",
       "      <td>3</td>\n",
       "      <td>2020-01-12</td>\n",
       "      <td>14 years later norv turner prediction jimmy jo...</td>\n",
       "    </tr>\n",
       "    <tr>\n",
       "      <th>9</th>\n",
       "      <td>Is Jadeveon Clowney the dirtiest player in the...</td>\n",
       "      <td>After another dirty play from him today and th...</td>\n",
       "      <td>nfl</td>\n",
       "      <td>MikeG1990</td>\n",
       "      <td>21</td>\n",
       "      <td>2020-01-12</td>\n",
       "      <td>jadeveon clowney dirtiest player nfl</td>\n",
       "    </tr>\n",
       "  </tbody>\n",
       "</table>\n",
       "</div>"
      ],
      "text/plain": [
       "                                               title  \\\n",
       "0   Who is free to help out with a sacko punishment?   \n",
       "3  TIL The President of the NFL Hall of Fame is a...   \n",
       "6  The Browns are like the rich kid who got all t...   \n",
       "7  14 years later, Norv Turner's prediction of Ji...   \n",
       "9  Is Jadeveon Clowney the dirtiest player in the...   \n",
       "\n",
       "                                            selftext subreddit  \\\n",
       "0  Amazon gift card in it for yall haha\\n\\nwe hav...       nfl   \n",
       "3                                          [removed]       nfl   \n",
       "6                                               none       nfl   \n",
       "7  During Troy Aikman's Hall of Fame enshrinement...       nfl   \n",
       "9  After another dirty play from him today and th...       nfl   \n",
       "\n",
       "                 author  num_comments   timestamp  \\\n",
       "0          spicyboy2727            13  2020-01-12   \n",
       "3      No_Cat_No_Cradle             0  2020-01-12   \n",
       "6        RuneSlayer4421             3  2020-01-12   \n",
       "7  DraymondShldntWear23             3  2020-01-12   \n",
       "9             MikeG1990            21  2020-01-12   \n",
       "\n",
       "                                         clean_title  \n",
       "0                         free help sacko punishment  \n",
       "3       til president nfl hall fame convicted forger  \n",
       "6  browns like rich kid got cool toys never knew use  \n",
       "7  14 years later norv turner prediction jimmy jo...  \n",
       "9               jadeveon clowney dirtiest player nfl  "
      ]
     },
     "execution_count": 17,
     "metadata": {},
     "output_type": "execute_result"
    }
   ],
   "source": [
    "df.head()"
   ]
  },
  {
   "cell_type": "code",
   "execution_count": 18,
   "metadata": {},
   "outputs": [
    {
     "data": {
      "text/plain": [
       "array(['nfl', 'football'], dtype=object)"
      ]
     },
     "execution_count": 18,
     "metadata": {},
     "output_type": "execute_result"
    }
   ],
   "source": [
    "#will convert nfl text to 1 and football text to 0\n",
    "df['subreddit'].unique()"
   ]
  },
  {
   "cell_type": "code",
   "execution_count": 19,
   "metadata": {},
   "outputs": [],
   "source": [
    "df['subreddit'] = df['subreddit'].map({'nfl' : 0, 'football' : 1})"
   ]
  },
  {
   "cell_type": "code",
   "execution_count": 20,
   "metadata": {},
   "outputs": [
    {
     "data": {
      "text/plain": [
       "array([0, 1])"
      ]
     },
     "execution_count": 20,
     "metadata": {},
     "output_type": "execute_result"
    }
   ],
   "source": [
    "df['subreddit'].unique()\n"
   ]
  },
  {
   "cell_type": "markdown",
   "metadata": {},
   "source": [
    "## Exploratory Data Analysis (EDA)"
   ]
  },
  {
   "cell_type": "markdown",
   "metadata": {},
   "source": [
    "For our EDA, I wanted to get the most frequent word counts that were being used within the data so I ran a count Vectorizer and a Tfidf Vectorizer on n-grams of (1,2) to see if there is a word or words that stuck out. We found that majority of the most frequent words were the same however, the word 'happy' showed up in the Tfidf Vectorizer. This tells me that the word is very important within a doc of a corpus so further reserch needs to be done on that."
   ]
  },
  {
   "cell_type": "code",
   "execution_count": 21,
   "metadata": {},
   "outputs": [],
   "source": [
    "cvec = CountVectorizer(ngram_range=(1,2))"
   ]
  },
  {
   "cell_type": "markdown",
   "metadata": {},
   "source": [
    "We will first look at the count of certain words were being shown at through our CountVectorizer (in 1 and 2 word grams) and graph our findings within a bar chart."
   ]
  },
  {
   "cell_type": "code",
   "execution_count": 22,
   "metadata": {},
   "outputs": [
    {
     "data": {
      "text/html": [
       "<div>\n",
       "<style scoped>\n",
       "    .dataframe tbody tr th:only-of-type {\n",
       "        vertical-align: middle;\n",
       "    }\n",
       "\n",
       "    .dataframe tbody tr th {\n",
       "        vertical-align: top;\n",
       "    }\n",
       "\n",
       "    .dataframe thead th {\n",
       "        text-align: right;\n",
       "    }\n",
       "</style>\n",
       "<table border=\"1\" class=\"dataframe\">\n",
       "  <thead>\n",
       "    <tr style=\"text-align: right;\">\n",
       "      <th></th>\n",
       "      <th>title</th>\n",
       "      <th>selftext</th>\n",
       "      <th>subreddit</th>\n",
       "      <th>author</th>\n",
       "      <th>num_comments</th>\n",
       "      <th>timestamp</th>\n",
       "      <th>clean_title</th>\n",
       "    </tr>\n",
       "  </thead>\n",
       "  <tbody>\n",
       "    <tr>\n",
       "      <th>0</th>\n",
       "      <td>Who is free to help out with a sacko punishment?</td>\n",
       "      <td>Amazon gift card in it for yall haha\\n\\nwe hav...</td>\n",
       "      <td>0</td>\n",
       "      <td>spicyboy2727</td>\n",
       "      <td>13</td>\n",
       "      <td>2020-01-12</td>\n",
       "      <td>free help sacko punishment</td>\n",
       "    </tr>\n",
       "    <tr>\n",
       "      <th>3</th>\n",
       "      <td>TIL The President of the NFL Hall of Fame is a...</td>\n",
       "      <td>[removed]</td>\n",
       "      <td>0</td>\n",
       "      <td>No_Cat_No_Cradle</td>\n",
       "      <td>0</td>\n",
       "      <td>2020-01-12</td>\n",
       "      <td>til president nfl hall fame convicted forger</td>\n",
       "    </tr>\n",
       "    <tr>\n",
       "      <th>6</th>\n",
       "      <td>The Browns are like the rich kid who got all t...</td>\n",
       "      <td>none</td>\n",
       "      <td>0</td>\n",
       "      <td>RuneSlayer4421</td>\n",
       "      <td>3</td>\n",
       "      <td>2020-01-12</td>\n",
       "      <td>browns like rich kid got cool toys never knew use</td>\n",
       "    </tr>\n",
       "    <tr>\n",
       "      <th>7</th>\n",
       "      <td>14 years later, Norv Turner's prediction of Ji...</td>\n",
       "      <td>During Troy Aikman's Hall of Fame enshrinement...</td>\n",
       "      <td>0</td>\n",
       "      <td>DraymondShldntWear23</td>\n",
       "      <td>3</td>\n",
       "      <td>2020-01-12</td>\n",
       "      <td>14 years later norv turner prediction jimmy jo...</td>\n",
       "    </tr>\n",
       "    <tr>\n",
       "      <th>9</th>\n",
       "      <td>Is Jadeveon Clowney the dirtiest player in the...</td>\n",
       "      <td>After another dirty play from him today and th...</td>\n",
       "      <td>0</td>\n",
       "      <td>MikeG1990</td>\n",
       "      <td>21</td>\n",
       "      <td>2020-01-12</td>\n",
       "      <td>jadeveon clowney dirtiest player nfl</td>\n",
       "    </tr>\n",
       "  </tbody>\n",
       "</table>\n",
       "</div>"
      ],
      "text/plain": [
       "                                               title  \\\n",
       "0   Who is free to help out with a sacko punishment?   \n",
       "3  TIL The President of the NFL Hall of Fame is a...   \n",
       "6  The Browns are like the rich kid who got all t...   \n",
       "7  14 years later, Norv Turner's prediction of Ji...   \n",
       "9  Is Jadeveon Clowney the dirtiest player in the...   \n",
       "\n",
       "                                            selftext  subreddit  \\\n",
       "0  Amazon gift card in it for yall haha\\n\\nwe hav...          0   \n",
       "3                                          [removed]          0   \n",
       "6                                               none          0   \n",
       "7  During Troy Aikman's Hall of Fame enshrinement...          0   \n",
       "9  After another dirty play from him today and th...          0   \n",
       "\n",
       "                 author  num_comments   timestamp  \\\n",
       "0          spicyboy2727            13  2020-01-12   \n",
       "3      No_Cat_No_Cradle             0  2020-01-12   \n",
       "6        RuneSlayer4421             3  2020-01-12   \n",
       "7  DraymondShldntWear23             3  2020-01-12   \n",
       "9             MikeG1990            21  2020-01-12   \n",
       "\n",
       "                                         clean_title  \n",
       "0                         free help sacko punishment  \n",
       "3       til president nfl hall fame convicted forger  \n",
       "6  browns like rich kid got cool toys never knew use  \n",
       "7  14 years later norv turner prediction jimmy jo...  \n",
       "9               jadeveon clowney dirtiest player nfl  "
      ]
     },
     "execution_count": 22,
     "metadata": {},
     "output_type": "execute_result"
    }
   ],
   "source": [
    "df.head()"
   ]
  },
  {
   "cell_type": "code",
   "execution_count": 23,
   "metadata": {},
   "outputs": [],
   "source": [
    "X_text = cvec.fit_transform(df['clean_title'])"
   ]
  },
  {
   "cell_type": "code",
   "execution_count": 24,
   "metadata": {},
   "outputs": [],
   "source": [
    "X_text_df = pd.DataFrame(X_text.toarray(),\n",
    "                        columns = cvec.get_feature_names())"
   ]
  },
  {
   "cell_type": "code",
   "execution_count": 25,
   "metadata": {},
   "outputs": [
    {
     "data": {
      "text/html": [
       "<div>\n",
       "<style scoped>\n",
       "    .dataframe tbody tr th:only-of-type {\n",
       "        vertical-align: middle;\n",
       "    }\n",
       "\n",
       "    .dataframe tbody tr th {\n",
       "        vertical-align: top;\n",
       "    }\n",
       "\n",
       "    .dataframe thead th {\n",
       "        text-align: right;\n",
       "    }\n",
       "</style>\n",
       "<table border=\"1\" class=\"dataframe\">\n",
       "  <thead>\n",
       "    <tr style=\"text-align: right;\">\n",
       "      <th></th>\n",
       "      <th>00</th>\n",
       "      <th>00 dead</th>\n",
       "      <th>00 entry</th>\n",
       "      <th>00 pm</th>\n",
       "      <th>000</th>\n",
       "      <th>000 000</th>\n",
       "      <th>000 beckham</th>\n",
       "      <th>000 career</th>\n",
       "      <th>000 clearing</th>\n",
       "      <th>000 dead</th>\n",
       "      <th>...</th>\n",
       "      <th>zlatan ibrahimovic</th>\n",
       "      <th>zone</th>\n",
       "      <th>zone ball</th>\n",
       "      <th>zone offense</th>\n",
       "      <th>zone question</th>\n",
       "      <th>zone soft</th>\n",
       "      <th>zone vs</th>\n",
       "      <th>zones</th>\n",
       "      <th>zrebiec</th>\n",
       "      <th>zrebiec harbaugh</th>\n",
       "    </tr>\n",
       "  </thead>\n",
       "  <tbody>\n",
       "    <tr>\n",
       "      <th>0</th>\n",
       "      <td>0</td>\n",
       "      <td>0</td>\n",
       "      <td>0</td>\n",
       "      <td>0</td>\n",
       "      <td>0</td>\n",
       "      <td>0</td>\n",
       "      <td>0</td>\n",
       "      <td>0</td>\n",
       "      <td>0</td>\n",
       "      <td>0</td>\n",
       "      <td>...</td>\n",
       "      <td>0</td>\n",
       "      <td>0</td>\n",
       "      <td>0</td>\n",
       "      <td>0</td>\n",
       "      <td>0</td>\n",
       "      <td>0</td>\n",
       "      <td>0</td>\n",
       "      <td>0</td>\n",
       "      <td>0</td>\n",
       "      <td>0</td>\n",
       "    </tr>\n",
       "    <tr>\n",
       "      <th>1</th>\n",
       "      <td>0</td>\n",
       "      <td>0</td>\n",
       "      <td>0</td>\n",
       "      <td>0</td>\n",
       "      <td>0</td>\n",
       "      <td>0</td>\n",
       "      <td>0</td>\n",
       "      <td>0</td>\n",
       "      <td>0</td>\n",
       "      <td>0</td>\n",
       "      <td>...</td>\n",
       "      <td>0</td>\n",
       "      <td>0</td>\n",
       "      <td>0</td>\n",
       "      <td>0</td>\n",
       "      <td>0</td>\n",
       "      <td>0</td>\n",
       "      <td>0</td>\n",
       "      <td>0</td>\n",
       "      <td>0</td>\n",
       "      <td>0</td>\n",
       "    </tr>\n",
       "    <tr>\n",
       "      <th>2</th>\n",
       "      <td>0</td>\n",
       "      <td>0</td>\n",
       "      <td>0</td>\n",
       "      <td>0</td>\n",
       "      <td>0</td>\n",
       "      <td>0</td>\n",
       "      <td>0</td>\n",
       "      <td>0</td>\n",
       "      <td>0</td>\n",
       "      <td>0</td>\n",
       "      <td>...</td>\n",
       "      <td>0</td>\n",
       "      <td>0</td>\n",
       "      <td>0</td>\n",
       "      <td>0</td>\n",
       "      <td>0</td>\n",
       "      <td>0</td>\n",
       "      <td>0</td>\n",
       "      <td>0</td>\n",
       "      <td>0</td>\n",
       "      <td>0</td>\n",
       "    </tr>\n",
       "    <tr>\n",
       "      <th>3</th>\n",
       "      <td>0</td>\n",
       "      <td>0</td>\n",
       "      <td>0</td>\n",
       "      <td>0</td>\n",
       "      <td>0</td>\n",
       "      <td>0</td>\n",
       "      <td>0</td>\n",
       "      <td>0</td>\n",
       "      <td>0</td>\n",
       "      <td>0</td>\n",
       "      <td>...</td>\n",
       "      <td>0</td>\n",
       "      <td>0</td>\n",
       "      <td>0</td>\n",
       "      <td>0</td>\n",
       "      <td>0</td>\n",
       "      <td>0</td>\n",
       "      <td>0</td>\n",
       "      <td>0</td>\n",
       "      <td>0</td>\n",
       "      <td>0</td>\n",
       "    </tr>\n",
       "    <tr>\n",
       "      <th>4</th>\n",
       "      <td>0</td>\n",
       "      <td>0</td>\n",
       "      <td>0</td>\n",
       "      <td>0</td>\n",
       "      <td>0</td>\n",
       "      <td>0</td>\n",
       "      <td>0</td>\n",
       "      <td>0</td>\n",
       "      <td>0</td>\n",
       "      <td>0</td>\n",
       "      <td>...</td>\n",
       "      <td>0</td>\n",
       "      <td>0</td>\n",
       "      <td>0</td>\n",
       "      <td>0</td>\n",
       "      <td>0</td>\n",
       "      <td>0</td>\n",
       "      <td>0</td>\n",
       "      <td>0</td>\n",
       "      <td>0</td>\n",
       "      <td>0</td>\n",
       "    </tr>\n",
       "    <tr>\n",
       "      <th>5</th>\n",
       "      <td>0</td>\n",
       "      <td>0</td>\n",
       "      <td>0</td>\n",
       "      <td>0</td>\n",
       "      <td>0</td>\n",
       "      <td>0</td>\n",
       "      <td>0</td>\n",
       "      <td>0</td>\n",
       "      <td>0</td>\n",
       "      <td>0</td>\n",
       "      <td>...</td>\n",
       "      <td>0</td>\n",
       "      <td>0</td>\n",
       "      <td>0</td>\n",
       "      <td>0</td>\n",
       "      <td>0</td>\n",
       "      <td>0</td>\n",
       "      <td>0</td>\n",
       "      <td>0</td>\n",
       "      <td>0</td>\n",
       "      <td>0</td>\n",
       "    </tr>\n",
       "    <tr>\n",
       "      <th>6</th>\n",
       "      <td>0</td>\n",
       "      <td>0</td>\n",
       "      <td>0</td>\n",
       "      <td>0</td>\n",
       "      <td>0</td>\n",
       "      <td>0</td>\n",
       "      <td>0</td>\n",
       "      <td>0</td>\n",
       "      <td>0</td>\n",
       "      <td>0</td>\n",
       "      <td>...</td>\n",
       "      <td>0</td>\n",
       "      <td>0</td>\n",
       "      <td>0</td>\n",
       "      <td>0</td>\n",
       "      <td>0</td>\n",
       "      <td>0</td>\n",
       "      <td>0</td>\n",
       "      <td>0</td>\n",
       "      <td>0</td>\n",
       "      <td>0</td>\n",
       "    </tr>\n",
       "    <tr>\n",
       "      <th>7</th>\n",
       "      <td>0</td>\n",
       "      <td>0</td>\n",
       "      <td>0</td>\n",
       "      <td>0</td>\n",
       "      <td>0</td>\n",
       "      <td>0</td>\n",
       "      <td>0</td>\n",
       "      <td>0</td>\n",
       "      <td>0</td>\n",
       "      <td>0</td>\n",
       "      <td>...</td>\n",
       "      <td>0</td>\n",
       "      <td>0</td>\n",
       "      <td>0</td>\n",
       "      <td>0</td>\n",
       "      <td>0</td>\n",
       "      <td>0</td>\n",
       "      <td>0</td>\n",
       "      <td>0</td>\n",
       "      <td>0</td>\n",
       "      <td>0</td>\n",
       "    </tr>\n",
       "    <tr>\n",
       "      <th>8</th>\n",
       "      <td>0</td>\n",
       "      <td>0</td>\n",
       "      <td>0</td>\n",
       "      <td>0</td>\n",
       "      <td>0</td>\n",
       "      <td>0</td>\n",
       "      <td>0</td>\n",
       "      <td>0</td>\n",
       "      <td>0</td>\n",
       "      <td>0</td>\n",
       "      <td>...</td>\n",
       "      <td>0</td>\n",
       "      <td>0</td>\n",
       "      <td>0</td>\n",
       "      <td>0</td>\n",
       "      <td>0</td>\n",
       "      <td>0</td>\n",
       "      <td>0</td>\n",
       "      <td>0</td>\n",
       "      <td>0</td>\n",
       "      <td>0</td>\n",
       "    </tr>\n",
       "    <tr>\n",
       "      <th>9</th>\n",
       "      <td>0</td>\n",
       "      <td>0</td>\n",
       "      <td>0</td>\n",
       "      <td>0</td>\n",
       "      <td>0</td>\n",
       "      <td>0</td>\n",
       "      <td>0</td>\n",
       "      <td>0</td>\n",
       "      <td>0</td>\n",
       "      <td>0</td>\n",
       "      <td>...</td>\n",
       "      <td>0</td>\n",
       "      <td>0</td>\n",
       "      <td>0</td>\n",
       "      <td>0</td>\n",
       "      <td>0</td>\n",
       "      <td>0</td>\n",
       "      <td>0</td>\n",
       "      <td>0</td>\n",
       "      <td>0</td>\n",
       "      <td>0</td>\n",
       "    </tr>\n",
       "  </tbody>\n",
       "</table>\n",
       "<p>10 rows × 29065 columns</p>\n",
       "</div>"
      ],
      "text/plain": [
       "   00  00 dead  00 entry  00 pm  000  000 000  000 beckham  000 career  \\\n",
       "0   0        0         0      0    0        0            0           0   \n",
       "1   0        0         0      0    0        0            0           0   \n",
       "2   0        0         0      0    0        0            0           0   \n",
       "3   0        0         0      0    0        0            0           0   \n",
       "4   0        0         0      0    0        0            0           0   \n",
       "5   0        0         0      0    0        0            0           0   \n",
       "6   0        0         0      0    0        0            0           0   \n",
       "7   0        0         0      0    0        0            0           0   \n",
       "8   0        0         0      0    0        0            0           0   \n",
       "9   0        0         0      0    0        0            0           0   \n",
       "\n",
       "   000 clearing  000 dead  ...  zlatan ibrahimovic  zone  zone ball  \\\n",
       "0             0         0  ...                   0     0          0   \n",
       "1             0         0  ...                   0     0          0   \n",
       "2             0         0  ...                   0     0          0   \n",
       "3             0         0  ...                   0     0          0   \n",
       "4             0         0  ...                   0     0          0   \n",
       "5             0         0  ...                   0     0          0   \n",
       "6             0         0  ...                   0     0          0   \n",
       "7             0         0  ...                   0     0          0   \n",
       "8             0         0  ...                   0     0          0   \n",
       "9             0         0  ...                   0     0          0   \n",
       "\n",
       "   zone offense  zone question  zone soft  zone vs  zones  zrebiec  \\\n",
       "0             0              0          0        0      0        0   \n",
       "1             0              0          0        0      0        0   \n",
       "2             0              0          0        0      0        0   \n",
       "3             0              0          0        0      0        0   \n",
       "4             0              0          0        0      0        0   \n",
       "5             0              0          0        0      0        0   \n",
       "6             0              0          0        0      0        0   \n",
       "7             0              0          0        0      0        0   \n",
       "8             0              0          0        0      0        0   \n",
       "9             0              0          0        0      0        0   \n",
       "\n",
       "   zrebiec harbaugh  \n",
       "0                 0  \n",
       "1                 0  \n",
       "2                 0  \n",
       "3                 0  \n",
       "4                 0  \n",
       "5                 0  \n",
       "6                 0  \n",
       "7                 0  \n",
       "8                 0  \n",
       "9                 0  \n",
       "\n",
       "[10 rows x 29065 columns]"
      ]
     },
     "execution_count": 25,
     "metadata": {},
     "output_type": "execute_result"
    }
   ],
   "source": [
    "X_text_df.head(10)"
   ]
  },
  {
   "cell_type": "code",
   "execution_count": 26,
   "metadata": {},
   "outputs": [
    {
     "data": {
      "text/plain": [
       "nfl         524\n",
       "football    416\n",
       "team        403\n",
       "game        355\n",
       "would       270\n",
       "season      269\n",
       "league      254\n",
       "vs          231\n",
       "best        189\n",
       "player      183\n",
       "dtype: int64"
      ]
     },
     "execution_count": 26,
     "metadata": {},
     "output_type": "execute_result"
    }
   ],
   "source": [
    "top_word = X_text_df.sum().sort_values(0,ascending = False).head(10)\n",
    "top_word"
   ]
  },
  {
   "cell_type": "markdown",
   "metadata": {},
   "source": [
    "We want to take the top ten words here shown per our CountVec visualize findings on a graph"
   ]
  },
  {
   "cell_type": "code",
   "execution_count": 27,
   "metadata": {},
   "outputs": [],
   "source": [
    "label = list(top_word)"
   ]
  },
  {
   "cell_type": "code",
   "execution_count": 28,
   "metadata": {},
   "outputs": [
    {
     "data": {
      "image/png": "[encoded data removed]",
      "text/plain": [
       "<Figure size 864x432 with 1 Axes>"
      ]
     },
     "metadata": {
      "needs_background": "light"
     },
     "output_type": "display_data"
    }
   ],
   "source": [
    "plt.figure(figsize=(12,6))\n",
    "top_word.sort_values(ascending = False).plot(kind = 'barh', color=(0.1, 0.1, 0.1, 0.6), edgecolor='red')\n",
    "plt.title('Most Frequent Words: CountVectorizer',size = 25)\n",
    "plt.xlabel('Frequency',size = 20)\n",
    "plt.ylabel('Word',size = 20)\n",
    "plt.xticks(fontsize=15)\n",
    "plt.yticks(fontsize=15)\n",
    "r = list(range(1,11))\n",
    "for i in range(0,len(r)):\n",
    "    plt.text(x = top_word.sort_values(ascending = False)[i]+1 , y = r[i]-1.1, s = label[i], size = 12)\n"
   ]
  },
  {
   "cell_type": "markdown",
   "metadata": {},
   "source": [
    "When analyzing the graph, we notice that more generic words within sports were the ones that came up the most with football, team, game etc. being within the top 5. Sport specific words also were shown which would help us distinguish the two such as nfl being the most frequency word relating more to american football and league which tends to be more used in european football."
   ]
  },
  {
   "cell_type": "code",
   "execution_count": 29,
   "metadata": {},
   "outputs": [],
   "source": [
    "tvec = TfidfVectorizer(ngram_range=(1,2))"
   ]
  },
  {
   "cell_type": "markdown",
   "metadata": {},
   "source": [
    "We will now take a look at the frequency that the word were being shown at through our TfidfVectorizer (in 1 and 2 word grams) and graph our findings within a bar chart."
   ]
  },
  {
   "cell_type": "code",
   "execution_count": 30,
   "metadata": {},
   "outputs": [],
   "source": [
    "X_text_tvec = tvec.fit_transform(df['clean_title'])"
   ]
  },
  {
   "cell_type": "code",
   "execution_count": 31,
   "metadata": {},
   "outputs": [],
   "source": [
    "X_text_tvec_df = pd.DataFrame(X_text_tvec.toarray(),\n",
    "                        columns = tvec.get_feature_names())"
   ]
  },
  {
   "cell_type": "code",
   "execution_count": 32,
   "metadata": {},
   "outputs": [
    {
     "data": {
      "text/html": [
       "<div>\n",
       "<style scoped>\n",
       "    .dataframe tbody tr th:only-of-type {\n",
       "        vertical-align: middle;\n",
       "    }\n",
       "\n",
       "    .dataframe tbody tr th {\n",
       "        vertical-align: top;\n",
       "    }\n",
       "\n",
       "    .dataframe thead th {\n",
       "        text-align: right;\n",
       "    }\n",
       "</style>\n",
       "<table border=\"1\" class=\"dataframe\">\n",
       "  <thead>\n",
       "    <tr style=\"text-align: right;\">\n",
       "      <th></th>\n",
       "      <th>00</th>\n",
       "      <th>00 dead</th>\n",
       "      <th>00 entry</th>\n",
       "      <th>00 pm</th>\n",
       "      <th>000</th>\n",
       "      <th>000 000</th>\n",
       "      <th>000 beckham</th>\n",
       "      <th>000 career</th>\n",
       "      <th>000 clearing</th>\n",
       "      <th>000 dead</th>\n",
       "      <th>...</th>\n",
       "      <th>zlatan ibrahimovic</th>\n",
       "      <th>zone</th>\n",
       "      <th>zone ball</th>\n",
       "      <th>zone offense</th>\n",
       "      <th>zone question</th>\n",
       "      <th>zone soft</th>\n",
       "      <th>zone vs</th>\n",
       "      <th>zones</th>\n",
       "      <th>zrebiec</th>\n",
       "      <th>zrebiec harbaugh</th>\n",
       "    </tr>\n",
       "  </thead>\n",
       "  <tbody>\n",
       "    <tr>\n",
       "      <th>0</th>\n",
       "      <td>0.0</td>\n",
       "      <td>0.0</td>\n",
       "      <td>0.0</td>\n",
       "      <td>0.0</td>\n",
       "      <td>0.0</td>\n",
       "      <td>0.0</td>\n",
       "      <td>0.0</td>\n",
       "      <td>0.0</td>\n",
       "      <td>0.0</td>\n",
       "      <td>0.0</td>\n",
       "      <td>...</td>\n",
       "      <td>0.0</td>\n",
       "      <td>0.0</td>\n",
       "      <td>0.0</td>\n",
       "      <td>0.0</td>\n",
       "      <td>0.0</td>\n",
       "      <td>0.0</td>\n",
       "      <td>0.0</td>\n",
       "      <td>0.0</td>\n",
       "      <td>0.0</td>\n",
       "      <td>0.0</td>\n",
       "    </tr>\n",
       "    <tr>\n",
       "      <th>1</th>\n",
       "      <td>0.0</td>\n",
       "      <td>0.0</td>\n",
       "      <td>0.0</td>\n",
       "      <td>0.0</td>\n",
       "      <td>0.0</td>\n",
       "      <td>0.0</td>\n",
       "      <td>0.0</td>\n",
       "      <td>0.0</td>\n",
       "      <td>0.0</td>\n",
       "      <td>0.0</td>\n",
       "      <td>...</td>\n",
       "      <td>0.0</td>\n",
       "      <td>0.0</td>\n",
       "      <td>0.0</td>\n",
       "      <td>0.0</td>\n",
       "      <td>0.0</td>\n",
       "      <td>0.0</td>\n",
       "      <td>0.0</td>\n",
       "      <td>0.0</td>\n",
       "      <td>0.0</td>\n",
       "      <td>0.0</td>\n",
       "    </tr>\n",
       "    <tr>\n",
       "      <th>2</th>\n",
       "      <td>0.0</td>\n",
       "      <td>0.0</td>\n",
       "      <td>0.0</td>\n",
       "      <td>0.0</td>\n",
       "      <td>0.0</td>\n",
       "      <td>0.0</td>\n",
       "      <td>0.0</td>\n",
       "      <td>0.0</td>\n",
       "      <td>0.0</td>\n",
       "      <td>0.0</td>\n",
       "      <td>...</td>\n",
       "      <td>0.0</td>\n",
       "      <td>0.0</td>\n",
       "      <td>0.0</td>\n",
       "      <td>0.0</td>\n",
       "      <td>0.0</td>\n",
       "      <td>0.0</td>\n",
       "      <td>0.0</td>\n",
       "      <td>0.0</td>\n",
       "      <td>0.0</td>\n",
       "      <td>0.0</td>\n",
       "    </tr>\n",
       "    <tr>\n",
       "      <th>3</th>\n",
       "      <td>0.0</td>\n",
       "      <td>0.0</td>\n",
       "      <td>0.0</td>\n",
       "      <td>0.0</td>\n",
       "      <td>0.0</td>\n",
       "      <td>0.0</td>\n",
       "      <td>0.0</td>\n",
       "      <td>0.0</td>\n",
       "      <td>0.0</td>\n",
       "      <td>0.0</td>\n",
       "      <td>...</td>\n",
       "      <td>0.0</td>\n",
       "      <td>0.0</td>\n",
       "      <td>0.0</td>\n",
       "      <td>0.0</td>\n",
       "      <td>0.0</td>\n",
       "      <td>0.0</td>\n",
       "      <td>0.0</td>\n",
       "      <td>0.0</td>\n",
       "      <td>0.0</td>\n",
       "      <td>0.0</td>\n",
       "    </tr>\n",
       "    <tr>\n",
       "      <th>4</th>\n",
       "      <td>0.0</td>\n",
       "      <td>0.0</td>\n",
       "      <td>0.0</td>\n",
       "      <td>0.0</td>\n",
       "      <td>0.0</td>\n",
       "      <td>0.0</td>\n",
       "      <td>0.0</td>\n",
       "      <td>0.0</td>\n",
       "      <td>0.0</td>\n",
       "      <td>0.0</td>\n",
       "      <td>...</td>\n",
       "      <td>0.0</td>\n",
       "      <td>0.0</td>\n",
       "      <td>0.0</td>\n",
       "      <td>0.0</td>\n",
       "      <td>0.0</td>\n",
       "      <td>0.0</td>\n",
       "      <td>0.0</td>\n",
       "      <td>0.0</td>\n",
       "      <td>0.0</td>\n",
       "      <td>0.0</td>\n",
       "    </tr>\n",
       "    <tr>\n",
       "      <th>5</th>\n",
       "      <td>0.0</td>\n",
       "      <td>0.0</td>\n",
       "      <td>0.0</td>\n",
       "      <td>0.0</td>\n",
       "      <td>0.0</td>\n",
       "      <td>0.0</td>\n",
       "      <td>0.0</td>\n",
       "      <td>0.0</td>\n",
       "      <td>0.0</td>\n",
       "      <td>0.0</td>\n",
       "      <td>...</td>\n",
       "      <td>0.0</td>\n",
       "      <td>0.0</td>\n",
       "      <td>0.0</td>\n",
       "      <td>0.0</td>\n",
       "      <td>0.0</td>\n",
       "      <td>0.0</td>\n",
       "      <td>0.0</td>\n",
       "      <td>0.0</td>\n",
       "      <td>0.0</td>\n",
       "      <td>0.0</td>\n",
       "    </tr>\n",
       "    <tr>\n",
       "      <th>6</th>\n",
       "      <td>0.0</td>\n",
       "      <td>0.0</td>\n",
       "      <td>0.0</td>\n",
       "      <td>0.0</td>\n",
       "      <td>0.0</td>\n",
       "      <td>0.0</td>\n",
       "      <td>0.0</td>\n",
       "      <td>0.0</td>\n",
       "      <td>0.0</td>\n",
       "      <td>0.0</td>\n",
       "      <td>...</td>\n",
       "      <td>0.0</td>\n",
       "      <td>0.0</td>\n",
       "      <td>0.0</td>\n",
       "      <td>0.0</td>\n",
       "      <td>0.0</td>\n",
       "      <td>0.0</td>\n",
       "      <td>0.0</td>\n",
       "      <td>0.0</td>\n",
       "      <td>0.0</td>\n",
       "      <td>0.0</td>\n",
       "    </tr>\n",
       "    <tr>\n",
       "      <th>7</th>\n",
       "      <td>0.0</td>\n",
       "      <td>0.0</td>\n",
       "      <td>0.0</td>\n",
       "      <td>0.0</td>\n",
       "      <td>0.0</td>\n",
       "      <td>0.0</td>\n",
       "      <td>0.0</td>\n",
       "      <td>0.0</td>\n",
       "      <td>0.0</td>\n",
       "      <td>0.0</td>\n",
       "      <td>...</td>\n",
       "      <td>0.0</td>\n",
       "      <td>0.0</td>\n",
       "      <td>0.0</td>\n",
       "      <td>0.0</td>\n",
       "      <td>0.0</td>\n",
       "      <td>0.0</td>\n",
       "      <td>0.0</td>\n",
       "      <td>0.0</td>\n",
       "      <td>0.0</td>\n",
       "      <td>0.0</td>\n",
       "    </tr>\n",
       "    <tr>\n",
       "      <th>8</th>\n",
       "      <td>0.0</td>\n",
       "      <td>0.0</td>\n",
       "      <td>0.0</td>\n",
       "      <td>0.0</td>\n",
       "      <td>0.0</td>\n",
       "      <td>0.0</td>\n",
       "      <td>0.0</td>\n",
       "      <td>0.0</td>\n",
       "      <td>0.0</td>\n",
       "      <td>0.0</td>\n",
       "      <td>...</td>\n",
       "      <td>0.0</td>\n",
       "      <td>0.0</td>\n",
       "      <td>0.0</td>\n",
       "      <td>0.0</td>\n",
       "      <td>0.0</td>\n",
       "      <td>0.0</td>\n",
       "      <td>0.0</td>\n",
       "      <td>0.0</td>\n",
       "      <td>0.0</td>\n",
       "      <td>0.0</td>\n",
       "    </tr>\n",
       "    <tr>\n",
       "      <th>9</th>\n",
       "      <td>0.0</td>\n",
       "      <td>0.0</td>\n",
       "      <td>0.0</td>\n",
       "      <td>0.0</td>\n",
       "      <td>0.0</td>\n",
       "      <td>0.0</td>\n",
       "      <td>0.0</td>\n",
       "      <td>0.0</td>\n",
       "      <td>0.0</td>\n",
       "      <td>0.0</td>\n",
       "      <td>...</td>\n",
       "      <td>0.0</td>\n",
       "      <td>0.0</td>\n",
       "      <td>0.0</td>\n",
       "      <td>0.0</td>\n",
       "      <td>0.0</td>\n",
       "      <td>0.0</td>\n",
       "      <td>0.0</td>\n",
       "      <td>0.0</td>\n",
       "      <td>0.0</td>\n",
       "      <td>0.0</td>\n",
       "    </tr>\n",
       "  </tbody>\n",
       "</table>\n",
       "<p>10 rows × 29065 columns</p>\n",
       "</div>"
      ],
      "text/plain": [
       "    00  00 dead  00 entry  00 pm  000  000 000  000 beckham  000 career  \\\n",
       "0  0.0      0.0       0.0    0.0  0.0      0.0          0.0         0.0   \n",
       "1  0.0      0.0       0.0    0.0  0.0      0.0          0.0         0.0   \n",
       "2  0.0      0.0       0.0    0.0  0.0      0.0          0.0         0.0   \n",
       "3  0.0      0.0       0.0    0.0  0.0      0.0          0.0         0.0   \n",
       "4  0.0      0.0       0.0    0.0  0.0      0.0          0.0         0.0   \n",
       "5  0.0      0.0       0.0    0.0  0.0      0.0          0.0         0.0   \n",
       "6  0.0      0.0       0.0    0.0  0.0      0.0          0.0         0.0   \n",
       "7  0.0      0.0       0.0    0.0  0.0      0.0          0.0         0.0   \n",
       "8  0.0      0.0       0.0    0.0  0.0      0.0          0.0         0.0   \n",
       "9  0.0      0.0       0.0    0.0  0.0      0.0          0.0         0.0   \n",
       "\n",
       "   000 clearing  000 dead  ...  zlatan ibrahimovic  zone  zone ball  \\\n",
       "0           0.0       0.0  ...                 0.0   0.0        0.0   \n",
       "1           0.0       0.0  ...                 0.0   0.0        0.0   \n",
       "2           0.0       0.0  ...                 0.0   0.0        0.0   \n",
       "3           0.0       0.0  ...                 0.0   0.0        0.0   \n",
       "4           0.0       0.0  ...                 0.0   0.0        0.0   \n",
       "5           0.0       0.0  ...                 0.0   0.0        0.0   \n",
       "6           0.0       0.0  ...                 0.0   0.0        0.0   \n",
       "7           0.0       0.0  ...                 0.0   0.0        0.0   \n",
       "8           0.0       0.0  ...                 0.0   0.0        0.0   \n",
       "9           0.0       0.0  ...                 0.0   0.0        0.0   \n",
       "\n",
       "   zone offense  zone question  zone soft  zone vs  zones  zrebiec  \\\n",
       "0           0.0            0.0        0.0      0.0    0.0      0.0   \n",
       "1           0.0            0.0        0.0      0.0    0.0      0.0   \n",
       "2           0.0            0.0        0.0      0.0    0.0      0.0   \n",
       "3           0.0            0.0        0.0      0.0    0.0      0.0   \n",
       "4           0.0            0.0        0.0      0.0    0.0      0.0   \n",
       "5           0.0            0.0        0.0      0.0    0.0      0.0   \n",
       "6           0.0            0.0        0.0      0.0    0.0      0.0   \n",
       "7           0.0            0.0        0.0      0.0    0.0      0.0   \n",
       "8           0.0            0.0        0.0      0.0    0.0      0.0   \n",
       "9           0.0            0.0        0.0      0.0    0.0      0.0   \n",
       "\n",
       "   zrebiec harbaugh  \n",
       "0               0.0  \n",
       "1               0.0  \n",
       "2               0.0  \n",
       "3               0.0  \n",
       "4               0.0  \n",
       "5               0.0  \n",
       "6               0.0  \n",
       "7               0.0  \n",
       "8               0.0  \n",
       "9               0.0  \n",
       "\n",
       "[10 rows x 29065 columns]"
      ]
     },
     "execution_count": 32,
     "metadata": {},
     "output_type": "execute_result"
    }
   ],
   "source": [
    "X_text_tvec_df.head(10)"
   ]
  },
  {
   "cell_type": "code",
   "execution_count": 33,
   "metadata": {},
   "outputs": [
    {
     "data": {
      "text/plain": [
       "football    69.187295\n",
       "nfl         65.678704\n",
       "happy       65.214297\n",
       "team        54.329795\n",
       "game        46.944567\n",
       "league      36.275903\n",
       "season      36.079234\n",
       "best        34.528178\n",
       "vs          34.139525\n",
       "would       33.648031\n",
       "dtype: float64"
      ]
     },
     "execution_count": 33,
     "metadata": {},
     "output_type": "execute_result"
    }
   ],
   "source": [
    "top_word_tvec = X_text_tvec_df.sum().sort_values(ascending = False).head(10)\n",
    "top_word_tvec"
   ]
  },
  {
   "cell_type": "markdown",
   "metadata": {},
   "source": [
    "We want to take the top ten words here shown per our TVec visualize findings on a graph"
   ]
  },
  {
   "cell_type": "code",
   "execution_count": 34,
   "metadata": {},
   "outputs": [],
   "source": [
    "label_1 = list(X_text_tvec_df.sum().sort_values(ascending = False).head(10))\n",
    "label_tvec = [round(i,2) for i in label_1]"
   ]
  },
  {
   "cell_type": "code",
   "execution_count": 35,
   "metadata": {},
   "outputs": [
    {
     "data": {
      "image/png": "[encoded data removed]",
      "text/plain": [
       "<Figure size 864x432 with 1 Axes>"
      ]
     },
     "metadata": {
      "needs_background": "light"
     },
     "output_type": "display_data"
    }
   ],
   "source": [
    "plt.figure(figsize=(12,6))\n",
    "top_word_tvec.sort_values(ascending = False).plot(kind = 'barh', color=(0.1, 0.1, 0.1, 0.6), edgecolor='red')\n",
    "plt.title('Most Frequent Words TfidfVectorizer',size = 25)\n",
    "plt.xlabel('Frequency',size = 20)\n",
    "plt.ylabel('Word',size = 20)\n",
    "plt.xticks(fontsize=15)\n",
    "plt.yticks(fontsize=15)\n",
    "r = list(range(1,11))\n",
    "for i in range(len(r)):\n",
    "    plt.text(x = top_word_tvec.sort_values(ascending = False)[i]+.5, y = r[i]-1.1, s = label_tvec[i], size = 12)\n",
    "    "
   ]
  },
  {
   "cell_type": "markdown",
   "metadata": {},
   "source": [
    "Similar to the countvectorizer, majority of the words tend to pop up the same here as well. One word however, that stuck out more was the word 'happy'. This was something that I did not expect to see here and will be intereted to see how this word gets evaluated within our models and which side itll lean towards. "
   ]
  },
  {
   "cell_type": "markdown",
   "metadata": {},
   "source": [
    "With all the information gathered and shown, I believe that there will be enough information to help us distinguish the two types of football and that we would be able to create a successful model to show that."
   ]
  },
  {
   "cell_type": "markdown",
   "metadata": {},
   "source": [
    "\n",
    "\n",
    "## Model Preparation"
   ]
  },
  {
   "cell_type": "markdown",
   "metadata": {},
   "source": [
    "For Modeling Preperation, we just wanted to set our X value and Target Value (y) to our data set. Based on the question we are trying to solve, we deemed that the X variable we will be exploring is the 'clean_title' while the Target variable we are trying to solve will be 'subreddit'."
   ]
  },
  {
   "cell_type": "code",
   "execution_count": 36,
   "metadata": {},
   "outputs": [],
   "source": [
    "target = df['subreddit']\n",
    "X = df['clean_title']\n",
    "y = target"
   ]
  },
  {
   "cell_type": "code",
   "execution_count": 37,
   "metadata": {},
   "outputs": [],
   "source": [
    "X_train, X_test, y_train, y_test = train_test_split(X, y, random_state = 14, test_size = 0.33, stratify = y)\n"
   ]
  },
  {
   "cell_type": "markdown",
   "metadata": {},
   "source": [
    "## Modeling"
   ]
  },
  {
   "cell_type": "markdown",
   "metadata": {},
   "source": [
    "For all our models, we will be using FeaturedUnion with Count Vectorizer and Tfidf Vectorizer . By doing this, it will combine the best features being used for both CountVectorizer and TfidfVectorizer create a complex model that I believe will score better rather then running the Count Vectorizer and Tfidf Vectorizer seperately. When selecting our features within the model, it was a lot of trial an error when selecting features to best suited across all our models. Results shown below show best model fitted based on the features run. \n",
    "\n",
    "\n",
    "Several Model types we will be evaluating are:\n",
    "- Logistic Regression\n",
    "- KNN\n",
    "- Multinominal Naive Bayes\n",
    "- Bernoulli Naive Bayes\n",
    "- Decision Trees\n",
    "\n",
    "After running Train/Test Scores, we ran a cross validation score across the entire data set as a means of verifying scores can be relied upon. "
   ]
  },
  {
   "cell_type": "markdown",
   "metadata": {},
   "source": [
    "__Baseline Model__"
   ]
  },
  {
   "cell_type": "markdown",
   "metadata": {},
   "source": [
    "Our baseline model is the percent of the most frequent class between both options. In this situation, NFL is more frequent so that will use that to determine the baseline model."
   ]
  },
  {
   "cell_type": "code",
   "execution_count": 38,
   "metadata": {},
   "outputs": [
    {
     "data": {
      "text/plain": [
       "0    2859\n",
       "1    1833\n",
       "Name: subreddit, dtype: int64"
      ]
     },
     "execution_count": 38,
     "metadata": {},
     "output_type": "execute_result"
    }
   ],
   "source": [
    "df['subreddit'].value_counts()"
   ]
  },
  {
   "cell_type": "code",
   "execution_count": 39,
   "metadata": {},
   "outputs": [
    {
     "data": {
      "text/plain": [
       "0    0.609335\n",
       "1    0.390665\n",
       "Name: subreddit, dtype: float64"
      ]
     },
     "execution_count": 39,
     "metadata": {},
     "output_type": "execute_result"
    }
   ],
   "source": [
    "df['subreddit'].value_counts(normalize = True)"
   ]
  },
  {
   "cell_type": "markdown",
   "metadata": {},
   "source": [
    "What setting up a baseline model does for us is that it gives us a score to beat and a metric that we can use to compare when models are created. If we were to see model scores being below 60%, this would show us that our model is not doing a great job and serious changes need to be made to it. With our score being 60% this shows the percentage of subreddits are related to american football and the other 40% being related to European Football."
   ]
  },
  {
   "cell_type": "markdown",
   "metadata": {},
   "source": [
    "__Model 1: Feature Union and Logistic Regression__\n",
    "When feature selecting "
   ]
  },
  {
   "cell_type": "code",
   "execution_count": 40,
   "metadata": {},
   "outputs": [],
   "source": [
    "pipe_log = Pipeline(steps = [('feats', FeatureUnion([\n",
    "    ('cvec', CountVectorizer()),\n",
    "    ('tvec', TfidfVectorizer())])),\n",
    "    ('lr', LogisticRegression(solver = 'liblinear')),\n",
    "])\n"
   ]
  },
  {
   "cell_type": "code",
   "execution_count": 41,
   "metadata": {},
   "outputs": [],
   "source": [
    "pipe_params_log = {\n",
    "    'feats__cvec__max_features': [4500],\n",
    "    'feats__cvec__ngram_range': [(1, 1)],\n",
    "    'feats__cvec__stop_words' : ['english'],\n",
    "    'feats__tvec__max_features': [3500],\n",
    "    'feats__tvec__ngram_range': [(2,2)],\n",
    "    'feats__tvec__stop_words' : ['english'],\n",
    "    'lr__penalty': ['l2'],\n",
    "    'lr__C' : [2]\n",
    "}"
   ]
  },
  {
   "cell_type": "code",
   "execution_count": 42,
   "metadata": {},
   "outputs": [],
   "source": [
    "#gridsearch over all parameters\n",
    "pipe_log_gridsearch = GridSearchCV(pipe_log,\n",
    "                                pipe_params_log ,\n",
    "                                cv = 5,\n",
    "                                scoring='accuracy',\n",
    "                                verbose=1)"
   ]
  },
  {
   "cell_type": "code",
   "execution_count": 43,
   "metadata": {},
   "outputs": [
    {
     "name": "stdout",
     "output_type": "stream",
     "text": [
      "Fitting 5 folds for each of 1 candidates, totalling 5 fits\n"
     ]
    },
    {
     "name": "stderr",
     "output_type": "stream",
     "text": [
      "[Parallel(n_jobs=1)]: Using backend SequentialBackend with 1 concurrent workers.\n",
      "[Parallel(n_jobs=1)]: Done   5 out of   5 | elapsed:    1.3s finished\n"
     ]
    }
   ],
   "source": [
    "#fit data\n",
    "pipe_log_gridsearch.fit(X_train, y_train);"
   ]
  },
  {
   "cell_type": "code",
   "execution_count": 44,
   "metadata": {},
   "outputs": [
    {
     "data": {
      "text/plain": [
       "{'feats__cvec__max_features': 4500,\n",
       " 'feats__cvec__ngram_range': (1, 1),\n",
       " 'feats__cvec__stop_words': 'english',\n",
       " 'feats__tvec__max_features': 3500,\n",
       " 'feats__tvec__ngram_range': (2, 2),\n",
       " 'feats__tvec__stop_words': 'english',\n",
       " 'lr__C': 2,\n",
       " 'lr__penalty': 'l2'}"
      ]
     },
     "execution_count": 44,
     "metadata": {},
     "output_type": "execute_result"
    }
   ],
   "source": [
    "#search for best score on fitted data\n",
    "pipe_log_gridsearch.best_params_"
   ]
  },
  {
   "cell_type": "code",
   "execution_count": 45,
   "metadata": {},
   "outputs": [
    {
     "data": {
      "text/plain": [
       "0.8803690741329939"
      ]
     },
     "execution_count": 45,
     "metadata": {},
     "output_type": "execute_result"
    }
   ],
   "source": [
    "# search for best score on fitted data\n",
    "pipe_log_gridsearch.best_score_\n"
   ]
  },
  {
   "cell_type": "code",
   "execution_count": 46,
   "metadata": {},
   "outputs": [
    {
     "data": {
      "text/plain": [
       "0.8631765271303117"
      ]
     },
     "execution_count": 46,
     "metadata": {},
     "output_type": "execute_result"
    }
   ],
   "source": [
    "#confirms our scores are valid\n",
    "cross_val_score(pipe_log_gridsearch.best_estimator_, X, target, cv= 5).mean()"
   ]
  },
  {
   "cell_type": "code",
   "execution_count": 47,
   "metadata": {},
   "outputs": [
    {
     "name": "stdout",
     "output_type": "stream",
     "text": [
      "Best TRAIN set accuracy: 0.8804\n",
      "Best TEST set accuracy: 0.8806\n"
     ]
    }
   ],
   "source": [
    "train_score = pipe_log_gridsearch.best_score_\n",
    "print('Best TRAIN set accuracy: {:.4f}'.format(train_score))\n",
    "test_score = pipe_log_gridsearch.score(X_test, y_test)\n",
    "print('Best TEST set accuracy: {:.4f}'.format(test_score))"
   ]
  },
  {
   "cell_type": "markdown",
   "metadata": {},
   "source": [
    "__Model 2: FeatureUnion + KNeighbors__"
   ]
  },
  {
   "cell_type": "code",
   "execution_count": 48,
   "metadata": {},
   "outputs": [],
   "source": [
    "pipe_knn = Pipeline(steps = [('feats', FeatureUnion([\n",
    "    ('cvec', CountVectorizer()),\n",
    "    ('tvec', TfidfVectorizer())])),\n",
    "    ('sc', StandardScaler(with_mean=False)),                         \n",
    "    ('knn', KNeighborsClassifier())\n",
    "])\n"
   ]
  },
  {
   "cell_type": "code",
   "execution_count": 49,
   "metadata": {},
   "outputs": [],
   "source": [
    "pipe_params_knn = {\n",
    "    'feats__cvec__max_features': [1000],\n",
    "    'feats__cvec__ngram_range': [(1, 2)],\n",
    "    'feats__cvec__stop_words' : ['english'],\n",
    "    'feats__tvec__max_features': [1000],\n",
    "    'feats__tvec__ngram_range': [(2,2)],\n",
    "    'feats__tvec__stop_words' : ['english'],\n",
    "    'knn__n_neighbors':[1],\n",
    "    'knn__metric':['euclidean']\n",
    "}"
   ]
  },
  {
   "cell_type": "code",
   "execution_count": 50,
   "metadata": {},
   "outputs": [],
   "source": [
    "pipe_knn_gridsearch = GridSearchCV(pipe_knn,\n",
    "                                pipe_params_knn ,\n",
    "                                cv = 5,\n",
    "                                scoring='accuracy',\n",
    "                                verbose=1)"
   ]
  },
  {
   "cell_type": "code",
   "execution_count": 51,
   "metadata": {},
   "outputs": [
    {
     "name": "stdout",
     "output_type": "stream",
     "text": [
      "Fitting 5 folds for each of 1 candidates, totalling 5 fits\n"
     ]
    },
    {
     "name": "stderr",
     "output_type": "stream",
     "text": [
      "[Parallel(n_jobs=1)]: Using backend SequentialBackend with 1 concurrent workers.\n",
      "[Parallel(n_jobs=1)]: Done   5 out of   5 | elapsed:    3.4s finished\n"
     ]
    }
   ],
   "source": [
    "#fit data\n",
    "pipe_knn_gridsearch.fit(X_train, y_train);"
   ]
  },
  {
   "cell_type": "code",
   "execution_count": 52,
   "metadata": {},
   "outputs": [
    {
     "data": {
      "text/plain": [
       "{'feats__cvec__max_features': 1000,\n",
       " 'feats__cvec__ngram_range': (1, 2),\n",
       " 'feats__cvec__stop_words': 'english',\n",
       " 'feats__tvec__max_features': 1000,\n",
       " 'feats__tvec__ngram_range': (2, 2),\n",
       " 'feats__tvec__stop_words': 'english',\n",
       " 'knn__metric': 'euclidean',\n",
       " 'knn__n_neighbors': 1}"
      ]
     },
     "execution_count": 52,
     "metadata": {},
     "output_type": "execute_result"
    }
   ],
   "source": [
    "#search for best score on fitted data\n",
    "pipe_knn_gridsearch.best_params_"
   ]
  },
  {
   "cell_type": "code",
   "execution_count": 53,
   "metadata": {},
   "outputs": [
    {
     "name": "stdout",
     "output_type": "stream",
     "text": [
      "Best TRAIN set accuracy: 0.7700\n",
      "Best TEST set accuracy: 0.7508\n"
     ]
    }
   ],
   "source": [
    "train_score = pipe_knn_gridsearch.best_score_\n",
    "print('Best TRAIN set accuracy: {:.4f}'.format(train_score))\n",
    "test_score = pipe_knn_gridsearch.score(X_test, y_test)\n",
    "print('Best TEST set accuracy: {:.4f}'.format(test_score))"
   ]
  },
  {
   "cell_type": "code",
   "execution_count": 54,
   "metadata": {},
   "outputs": [
    {
     "data": {
      "text/plain": [
       "0.7267651763913385"
      ]
     },
     "execution_count": 54,
     "metadata": {},
     "output_type": "execute_result"
    }
   ],
   "source": [
    "cross_val_score(pipe_knn_gridsearch.best_estimator_, X, target, cv= 5).mean()"
   ]
  },
  {
   "cell_type": "code",
   "execution_count": null,
   "metadata": {},
   "outputs": [],
   "source": []
  },
  {
   "cell_type": "markdown",
   "metadata": {},
   "source": [
    "__Model 3: Feature Union and Multinominal Naive Bayes__"
   ]
  },
  {
   "cell_type": "code",
   "execution_count": 55,
   "metadata": {},
   "outputs": [],
   "source": [
    "pipe_mnb = Pipeline(steps = [('feats', FeatureUnion([\n",
    "    ('cvec', CountVectorizer()),\n",
    "    ('tvec', TfidfVectorizer())])),\n",
    "                            \n",
    "    ('mnb', MultinomialNB())\n",
    "])"
   ]
  },
  {
   "cell_type": "code",
   "execution_count": 56,
   "metadata": {},
   "outputs": [],
   "source": [
    "pipe_params_mnb = {\n",
    "    'feats__cvec__max_features': [3000],\n",
    "    'feats__cvec__ngram_range': [(1, 2)],\n",
    "    'feats__cvec__stop_words' : ['english'],\n",
    "    'feats__tvec__max_features': [4000],\n",
    "    'feats__tvec__ngram_range': [(1, 1)],\n",
    "    'feats__tvec__stop_words' : ['english']\n",
    "}"
   ]
  },
  {
   "cell_type": "code",
   "execution_count": 57,
   "metadata": {},
   "outputs": [],
   "source": [
    "pipe_mnb_gridsearch = GridSearchCV(pipe_mnb,\n",
    "                                pipe_params_mnb ,\n",
    "                                cv = 5,\n",
    "                                scoring='accuracy',\n",
    "                                verbose=1)"
   ]
  },
  {
   "cell_type": "code",
   "execution_count": 58,
   "metadata": {},
   "outputs": [
    {
     "name": "stdout",
     "output_type": "stream",
     "text": [
      "Fitting 5 folds for each of 1 candidates, totalling 5 fits\n"
     ]
    },
    {
     "name": "stderr",
     "output_type": "stream",
     "text": [
      "[Parallel(n_jobs=1)]: Using backend SequentialBackend with 1 concurrent workers.\n",
      "[Parallel(n_jobs=1)]: Done   5 out of   5 | elapsed:    2.8s finished\n"
     ]
    },
    {
     "data": {
      "text/plain": [
       "GridSearchCV(cv=5, error_score='raise-deprecating',\n",
       "             estimator=Pipeline(memory=None,\n",
       "                                steps=[('feats',\n",
       "                                        FeatureUnion(n_jobs=None,\n",
       "                                                     transformer_list=[('cvec',\n",
       "                                                                        CountVectorizer(analyzer='word',\n",
       "                                                                                        binary=False,\n",
       "                                                                                        decode_error='strict',\n",
       "                                                                                        dtype=<class 'numpy.int64'>,\n",
       "                                                                                        encoding='utf-8',\n",
       "                                                                                        input='content',\n",
       "                                                                                        lowercase=True,\n",
       "                                                                                        max_df=1.0,\n",
       "                                                                                        max_features=None,\n",
       "                                                                                        min_df=1,\n",
       "                                                                                        ngram_range=(1,\n",
       "                                                                                                     1),\n",
       "                                                                                        prep...\n",
       "                                verbose=False),\n",
       "             iid='warn', n_jobs=None,\n",
       "             param_grid={'feats__cvec__max_features': [3000],\n",
       "                         'feats__cvec__ngram_range': [(1, 2)],\n",
       "                         'feats__cvec__stop_words': ['english'],\n",
       "                         'feats__tvec__max_features': [4000],\n",
       "                         'feats__tvec__ngram_range': [(1, 1)],\n",
       "                         'feats__tvec__stop_words': ['english']},\n",
       "             pre_dispatch='2*n_jobs', refit=True, return_train_score=False,\n",
       "             scoring='accuracy', verbose=1)"
      ]
     },
     "execution_count": 58,
     "metadata": {},
     "output_type": "execute_result"
    }
   ],
   "source": [
    "pipe_mnb_gridsearch.fit(X_train, y_train)"
   ]
  },
  {
   "cell_type": "code",
   "execution_count": 59,
   "metadata": {},
   "outputs": [
    {
     "data": {
      "text/plain": [
       "{'feats__cvec__max_features': 3000,\n",
       " 'feats__cvec__ngram_range': (1, 2),\n",
       " 'feats__cvec__stop_words': 'english',\n",
       " 'feats__tvec__max_features': 4000,\n",
       " 'feats__tvec__ngram_range': (1, 1),\n",
       " 'feats__tvec__stop_words': 'english'}"
      ]
     },
     "execution_count": 59,
     "metadata": {},
     "output_type": "execute_result"
    }
   ],
   "source": [
    "pipe_mnb_gridsearch.best_params_"
   ]
  },
  {
   "cell_type": "code",
   "execution_count": 60,
   "metadata": {},
   "outputs": [
    {
     "name": "stdout",
     "output_type": "stream",
     "text": [
      "Best TRAIN set accuracy: 0.8692\n",
      "Best TEST set accuracy: 0.8825\n"
     ]
    }
   ],
   "source": [
    "train_score = pipe_mnb_gridsearch.best_score_\n",
    "print('Best TRAIN set accuracy: {:.4f}'.format(train_score))\n",
    "test_score = pipe_mnb_gridsearch.score(X_test, y_test)\n",
    "print('Best TEST set accuracy: {:.4f}'.format(test_score))"
   ]
  },
  {
   "cell_type": "code",
   "execution_count": 61,
   "metadata": {},
   "outputs": [
    {
     "data": {
      "text/plain": [
       "0.8657317588839938"
      ]
     },
     "execution_count": 61,
     "metadata": {},
     "output_type": "execute_result"
    }
   ],
   "source": [
    "cross_val_score(pipe_mnb_gridsearch.best_estimator_, X, target, cv= 5).mean()"
   ]
  },
  {
   "cell_type": "markdown",
   "metadata": {},
   "source": [
    "__Model 4: FeaturedUnion and Bernoulli Naive Bayes__"
   ]
  },
  {
   "cell_type": "code",
   "execution_count": 62,
   "metadata": {},
   "outputs": [],
   "source": [
    "pipe_bnb = Pipeline(steps = [('feats', FeatureUnion([\n",
    "    ('cvec', CountVectorizer()),\n",
    "    ('tvec', TfidfVectorizer())])),\n",
    "                            \n",
    "    ('mnb', BernoulliNB())\n",
    "])"
   ]
  },
  {
   "cell_type": "code",
   "execution_count": 63,
   "metadata": {},
   "outputs": [],
   "source": [
    "pipe_params_bnb = {\n",
    "    'feats__cvec__max_features': [3000],\n",
    "    'feats__cvec__ngram_range': [(1, 2)],\n",
    "    'feats__cvec__stop_words' : ['english'],\n",
    "    'feats__tvec__max_features': [4000],\n",
    "    'feats__tvec__ngram_range': [(1,2)],\n",
    "    'feats__tvec__stop_words' : ['english']\n",
    "}"
   ]
  },
  {
   "cell_type": "code",
   "execution_count": 64,
   "metadata": {},
   "outputs": [],
   "source": [
    "pipe_bnb_gridsearch = GridSearchCV(pipe_bnb,\n",
    "                                pipe_params_bnb ,\n",
    "                                cv = 5,\n",
    "                                scoring='accuracy',\n",
    "                                verbose=1)"
   ]
  },
  {
   "cell_type": "code",
   "execution_count": 65,
   "metadata": {},
   "outputs": [
    {
     "name": "stdout",
     "output_type": "stream",
     "text": [
      "Fitting 5 folds for each of 1 candidates, totalling 5 fits\n"
     ]
    },
    {
     "name": "stderr",
     "output_type": "stream",
     "text": [
      "[Parallel(n_jobs=1)]: Using backend SequentialBackend with 1 concurrent workers.\n",
      "[Parallel(n_jobs=1)]: Done   5 out of   5 | elapsed:    2.1s finished\n"
     ]
    },
    {
     "data": {
      "text/plain": [
       "GridSearchCV(cv=5, error_score='raise-deprecating',\n",
       "             estimator=Pipeline(memory=None,\n",
       "                                steps=[('feats',\n",
       "                                        FeatureUnion(n_jobs=None,\n",
       "                                                     transformer_list=[('cvec',\n",
       "                                                                        CountVectorizer(analyzer='word',\n",
       "                                                                                        binary=False,\n",
       "                                                                                        decode_error='strict',\n",
       "                                                                                        dtype=<class 'numpy.int64'>,\n",
       "                                                                                        encoding='utf-8',\n",
       "                                                                                        input='content',\n",
       "                                                                                        lowercase=True,\n",
       "                                                                                        max_df=1.0,\n",
       "                                                                                        max_features=None,\n",
       "                                                                                        min_df=1,\n",
       "                                                                                        ngram_range=(1,\n",
       "                                                                                                     1),\n",
       "                                                                                        prep...\n",
       "                                verbose=False),\n",
       "             iid='warn', n_jobs=None,\n",
       "             param_grid={'feats__cvec__max_features': [3000],\n",
       "                         'feats__cvec__ngram_range': [(1, 2)],\n",
       "                         'feats__cvec__stop_words': ['english'],\n",
       "                         'feats__tvec__max_features': [4000],\n",
       "                         'feats__tvec__ngram_range': [(1, 2)],\n",
       "                         'feats__tvec__stop_words': ['english']},\n",
       "             pre_dispatch='2*n_jobs', refit=True, return_train_score=False,\n",
       "             scoring='accuracy', verbose=1)"
      ]
     },
     "execution_count": 65,
     "metadata": {},
     "output_type": "execute_result"
    }
   ],
   "source": [
    "pipe_bnb_gridsearch.fit(X_train, y_train)"
   ]
  },
  {
   "cell_type": "code",
   "execution_count": 66,
   "metadata": {},
   "outputs": [
    {
     "data": {
      "text/plain": [
       "{'feats__cvec__max_features': 3000,\n",
       " 'feats__cvec__ngram_range': (1, 2),\n",
       " 'feats__cvec__stop_words': 'english',\n",
       " 'feats__tvec__max_features': 4000,\n",
       " 'feats__tvec__ngram_range': (1, 2),\n",
       " 'feats__tvec__stop_words': 'english'}"
      ]
     },
     "execution_count": 66,
     "metadata": {},
     "output_type": "execute_result"
    }
   ],
   "source": [
    "pipe_bnb_gridsearch.best_params_"
   ]
  },
  {
   "cell_type": "code",
   "execution_count": 67,
   "metadata": {},
   "outputs": [
    {
     "name": "stdout",
     "output_type": "stream",
     "text": [
      "Best TRAIN set accuracy: 0.8801\n",
      "Best TEST set accuracy: 0.8851\n"
     ]
    }
   ],
   "source": [
    "train_score = pipe_bnb_gridsearch.best_score_\n",
    "print('Best TRAIN set accuracy: {:.4f}'.format(train_score))\n",
    "test_score = pipe_bnb_gridsearch.score(X_test, y_test)\n",
    "print('Best TEST set accuracy: {:.4f}'.format(test_score))"
   ]
  },
  {
   "cell_type": "code",
   "execution_count": 68,
   "metadata": {},
   "outputs": [
    {
     "data": {
      "text/plain": [
       "0.8606206199799162"
      ]
     },
     "execution_count": 68,
     "metadata": {},
     "output_type": "execute_result"
    }
   ],
   "source": [
    "cross_val_score(pipe_bnb_gridsearch.best_estimator_, X, target, cv= 5).mean()"
   ]
  },
  {
   "cell_type": "markdown",
   "metadata": {},
   "source": [
    "__Model 5: FeaturedUnion and Decision Tree__"
   ]
  },
  {
   "cell_type": "code",
   "execution_count": 69,
   "metadata": {},
   "outputs": [],
   "source": [
    "pipe_dt = Pipeline(steps = [('feats', FeatureUnion([\n",
    "    ('cvec', CountVectorizer()),\n",
    "    ('tvec', TfidfVectorizer())])),\n",
    "                            \n",
    "    ('dt', DecisionTreeClassifier(random_state = 14))\n",
    "])"
   ]
  },
  {
   "cell_type": "code",
   "execution_count": 70,
   "metadata": {},
   "outputs": [],
   "source": [
    "pipe_params_dt  = {\n",
    "    'feats__cvec__max_features': [3000, 5000],\n",
    "    'feats__cvec__ngram_range': [(1, 2), (2,2)],\n",
    "    'feats__cvec__stop_words' : ['english'],\n",
    "    'feats__tvec__max_features': [3000, 5000],\n",
    "    'feats__tvec__ngram_range': [(1, 1), (1,2)],\n",
    "    'feats__tvec__stop_words' : ['english'],\n",
    "    'dt__max_depth' : [10],\n",
    "    'dt__min_samples_split' : [5],\n",
    "    'dt__min_samples_leaf' : [1]\n",
    "}"
   ]
  },
  {
   "cell_type": "code",
   "execution_count": 71,
   "metadata": {},
   "outputs": [],
   "source": [
    "pipe_dt_gridsearch = GridSearchCV(pipe_dt,\n",
    "                                pipe_params_dt ,\n",
    "                                cv = 5,\n",
    "                                scoring='accuracy',\n",
    "                                verbose=1)"
   ]
  },
  {
   "cell_type": "code",
   "execution_count": 72,
   "metadata": {},
   "outputs": [
    {
     "name": "stdout",
     "output_type": "stream",
     "text": [
      "Fitting 5 folds for each of 16 candidates, totalling 80 fits\n"
     ]
    },
    {
     "name": "stderr",
     "output_type": "stream",
     "text": [
      "[Parallel(n_jobs=1)]: Using backend SequentialBackend with 1 concurrent workers.\n",
      "[Parallel(n_jobs=1)]: Done  80 out of  80 | elapsed:   29.8s finished\n"
     ]
    },
    {
     "data": {
      "text/plain": [
       "GridSearchCV(cv=5, error_score='raise-deprecating',\n",
       "             estimator=Pipeline(memory=None,\n",
       "                                steps=[('feats',\n",
       "                                        FeatureUnion(n_jobs=None,\n",
       "                                                     transformer_list=[('cvec',\n",
       "                                                                        CountVectorizer(analyzer='word',\n",
       "                                                                                        binary=False,\n",
       "                                                                                        decode_error='strict',\n",
       "                                                                                        dtype=<class 'numpy.int64'>,\n",
       "                                                                                        encoding='utf-8',\n",
       "                                                                                        input='content',\n",
       "                                                                                        lowercase=True,\n",
       "                                                                                        max_df=1.0,\n",
       "                                                                                        max_features=None,\n",
       "                                                                                        min_df=1,\n",
       "                                                                                        ngram_range=(1,\n",
       "                                                                                                     1),\n",
       "                                                                                        prep...\n",
       "                         'dt__min_samples_split': [5],\n",
       "                         'feats__cvec__max_features': [3000, 5000],\n",
       "                         'feats__cvec__ngram_range': [(1, 2), (2, 2)],\n",
       "                         'feats__cvec__stop_words': ['english'],\n",
       "                         'feats__tvec__max_features': [3000, 5000],\n",
       "                         'feats__tvec__ngram_range': [(1, 1), (1, 2)],\n",
       "                         'feats__tvec__stop_words': ['english']},\n",
       "             pre_dispatch='2*n_jobs', refit=True, return_train_score=False,\n",
       "             scoring='accuracy', verbose=1)"
      ]
     },
     "execution_count": 72,
     "metadata": {},
     "output_type": "execute_result"
    }
   ],
   "source": [
    "pipe_dt_gridsearch.fit(X_train, y_train)"
   ]
  },
  {
   "cell_type": "code",
   "execution_count": 73,
   "metadata": {},
   "outputs": [
    {
     "data": {
      "text/plain": [
       "{'dt__max_depth': 10,\n",
       " 'dt__min_samples_leaf': 1,\n",
       " 'dt__min_samples_split': 5,\n",
       " 'feats__cvec__max_features': 5000,\n",
       " 'feats__cvec__ngram_range': (2, 2),\n",
       " 'feats__cvec__stop_words': 'english',\n",
       " 'feats__tvec__max_features': 5000,\n",
       " 'feats__tvec__ngram_range': (1, 1),\n",
       " 'feats__tvec__stop_words': 'english'}"
      ]
     },
     "execution_count": 73,
     "metadata": {},
     "output_type": "execute_result"
    }
   ],
   "source": [
    "pipe_dt_gridsearch.best_params_"
   ]
  },
  {
   "cell_type": "code",
   "execution_count": 74,
   "metadata": {},
   "outputs": [
    {
     "name": "stdout",
     "output_type": "stream",
     "text": [
      "Best TRAIN set accuracy: 0.7528\n",
      "Best TEST set accuracy: 0.7424\n"
     ]
    }
   ],
   "source": [
    "train_score = pipe_dt_gridsearch.best_score_\n",
    "print('Best TRAIN set accuracy: {:.4f}'.format(train_score))\n",
    "test_score = pipe_dt_gridsearch.score(X_test, y_test)\n",
    "print('Best TEST set accuracy: {:.4f}'.format(test_score))"
   ]
  },
  {
   "cell_type": "code",
   "execution_count": 75,
   "metadata": {},
   "outputs": [
    {
     "data": {
      "text/plain": [
       "0.7425454915007164"
      ]
     },
     "execution_count": 75,
     "metadata": {},
     "output_type": "execute_result"
    }
   ],
   "source": [
    "cross_val_score(pipe_dt_gridsearch.best_estimator_, X, target, cv= 5).mean()"
   ]
  },
  {
   "cell_type": "markdown",
   "metadata": {},
   "source": [
    "## Model Selection"
   ]
  },
  {
   "cell_type": "markdown",
   "metadata": {},
   "source": [
    "For model selection, we went with FeaturedUnion with Logistic as when running our models, it scored the best on both train and test, had high bias and low variance. Below well create a dataframe to show the scores of all the models."
   ]
  },
  {
   "cell_type": "code",
   "execution_count": 76,
   "metadata": {},
   "outputs": [],
   "source": [
    "score_df = pd.DataFrame(columns = ['Model', 'Train Score', 'Test Score'])"
   ]
  },
  {
   "cell_type": "code",
   "execution_count": 77,
   "metadata": {},
   "outputs": [],
   "source": [
    "score_df['Model'] = ['Logistic Regression', 'KNN', 'Multinominal Naive Bayes', 'Bernoulli Naive Bayes', 'Decision Tree']"
   ]
  },
  {
   "cell_type": "code",
   "execution_count": 78,
   "metadata": {},
   "outputs": [],
   "source": [
    "score_df['Train Score'] = [pipe_log_gridsearch.best_score_,pipe_knn_gridsearch.best_score_, pipe_mnb_gridsearch.best_score_,\n",
    "                     pipe_bnb_gridsearch.best_score_, pipe_dt_gridsearch.best_score_]"
   ]
  },
  {
   "cell_type": "code",
   "execution_count": 79,
   "metadata": {},
   "outputs": [],
   "source": [
    "score_df['Train Score'] = [round(x,4) for x in score_df['Train Score']]"
   ]
  },
  {
   "cell_type": "code",
   "execution_count": 80,
   "metadata": {},
   "outputs": [],
   "source": [
    "score_df['Test Score'] = [pipe_log_gridsearch.score(X_test, y_test),pipe_knn_gridsearch.score(X_test, y_test), pipe_mnb_gridsearch.score(X_test, y_test),\n",
    "                     pipe_bnb_gridsearch.score(X_test, y_test), pipe_dt_gridsearch.score(X_test, y_test)]"
   ]
  },
  {
   "cell_type": "code",
   "execution_count": 81,
   "metadata": {},
   "outputs": [],
   "source": [
    "score_df['Test Score'] = [round(x,4) for x in score_df['Test Score']]"
   ]
  },
  {
   "cell_type": "code",
   "execution_count": 82,
   "metadata": {},
   "outputs": [],
   "source": [
    "score_df['Variance'] = score_df['Test Score'] - score_df['Train Score']"
   ]
  },
  {
   "cell_type": "code",
   "execution_count": 83,
   "metadata": {},
   "outputs": [
    {
     "data": {
      "text/html": [
       "<div>\n",
       "<style scoped>\n",
       "    .dataframe tbody tr th:only-of-type {\n",
       "        vertical-align: middle;\n",
       "    }\n",
       "\n",
       "    .dataframe tbody tr th {\n",
       "        vertical-align: top;\n",
       "    }\n",
       "\n",
       "    .dataframe thead th {\n",
       "        text-align: right;\n",
       "    }\n",
       "</style>\n",
       "<table border=\"1\" class=\"dataframe\">\n",
       "  <thead>\n",
       "    <tr style=\"text-align: right;\">\n",
       "      <th></th>\n",
       "      <th>Model</th>\n",
       "      <th>Train Score</th>\n",
       "      <th>Test Score</th>\n",
       "      <th>Variance</th>\n",
       "    </tr>\n",
       "  </thead>\n",
       "  <tbody>\n",
       "    <tr>\n",
       "      <th>0</th>\n",
       "      <td>Logistic Regression</td>\n",
       "      <td>0.8804</td>\n",
       "      <td>0.8806</td>\n",
       "      <td>0.0002</td>\n",
       "    </tr>\n",
       "    <tr>\n",
       "      <th>1</th>\n",
       "      <td>KNN</td>\n",
       "      <td>0.7700</td>\n",
       "      <td>0.7508</td>\n",
       "      <td>-0.0192</td>\n",
       "    </tr>\n",
       "    <tr>\n",
       "      <th>2</th>\n",
       "      <td>Multinominal Naive Bayes</td>\n",
       "      <td>0.8692</td>\n",
       "      <td>0.8825</td>\n",
       "      <td>0.0133</td>\n",
       "    </tr>\n",
       "    <tr>\n",
       "      <th>3</th>\n",
       "      <td>Bernoulli Naive Bayes</td>\n",
       "      <td>0.8801</td>\n",
       "      <td>0.8851</td>\n",
       "      <td>0.0050</td>\n",
       "    </tr>\n",
       "    <tr>\n",
       "      <th>4</th>\n",
       "      <td>Decision Tree</td>\n",
       "      <td>0.7528</td>\n",
       "      <td>0.7424</td>\n",
       "      <td>-0.0104</td>\n",
       "    </tr>\n",
       "  </tbody>\n",
       "</table>\n",
       "</div>"
      ],
      "text/plain": [
       "                      Model  Train Score  Test Score  Variance\n",
       "0       Logistic Regression       0.8804      0.8806    0.0002\n",
       "1                       KNN       0.7700      0.7508   -0.0192\n",
       "2  Multinominal Naive Bayes       0.8692      0.8825    0.0133\n",
       "3     Bernoulli Naive Bayes       0.8801      0.8851    0.0050\n",
       "4             Decision Tree       0.7528      0.7424   -0.0104"
      ]
     },
     "execution_count": 83,
     "metadata": {},
     "output_type": "execute_result"
    }
   ],
   "source": [
    "score_df"
   ]
  },
  {
   "cell_type": "markdown",
   "metadata": {},
   "source": [
    "## Model Evaluation "
   ]
  },
  {
   "cell_type": "markdown",
   "metadata": {},
   "source": [
    "When evaluating our model, we wanted to get a look at the "
   ]
  },
  {
   "cell_type": "code",
   "execution_count": null,
   "metadata": {},
   "outputs": [],
   "source": []
  },
  {
   "cell_type": "code",
   "execution_count": 84,
   "metadata": {},
   "outputs": [],
   "source": [
    "#get predicitons based on our model selection\n",
    "log_preds = pipe_log_gridsearch.predict(X_test)"
   ]
  },
  {
   "cell_type": "code",
   "execution_count": 85,
   "metadata": {},
   "outputs": [
    {
     "data": {
      "text/plain": [
       "array([ 0.12775364,  0.47119306, -0.11916086, ...,  0.03157297,\n",
       "       -0.13274772, -0.39410404])"
      ]
     },
     "execution_count": 85,
     "metadata": {},
     "output_type": "execute_result"
    }
   ],
   "source": [
    "pipe_log_gridsearch.best_estimator_.steps[1][1].coef_[0]"
   ]
  },
  {
   "cell_type": "code",
   "execution_count": 86,
   "metadata": {},
   "outputs": [
    {
     "name": "stdout",
     "output_type": "stream",
     "text": [
      "8000\n"
     ]
    }
   ],
   "source": [
    "best_features = pipe_log_gridsearch.best_estimator_.named_steps['feats'].get_feature_names()\n",
    "print(len(best_features))"
   ]
  },
  {
   "cell_type": "code",
   "execution_count": 87,
   "metadata": {},
   "outputs": [],
   "source": [
    "parent_type = ['tvec'if 'tvec' in x else 'cvec' for x in best_features]"
   ]
  },
  {
   "cell_type": "code",
   "execution_count": 88,
   "metadata": {},
   "outputs": [
    {
     "name": "stdout",
     "output_type": "stream",
     "text": [
      "8000\n"
     ]
    }
   ],
   "source": [
    "print(len(parent_type))"
   ]
  },
  {
   "cell_type": "markdown",
   "metadata": {},
   "source": [
    "We will now look to pull the coeffients from our model and produce a top ten chart for words that lean more towards european football and words that lean more towards american football"
   ]
  },
  {
   "cell_type": "code",
   "execution_count": 89,
   "metadata": {},
   "outputs": [],
   "source": [
    "#get coefficients\n",
    "coef = pipe_log_gridsearch.best_estimator_.steps[1][1].coef_[0]"
   ]
  },
  {
   "cell_type": "code",
   "execution_count": 90,
   "metadata": {},
   "outputs": [],
   "source": [
    "#create dataframe of coef\n",
    "df_coef = pd.DataFrame({'coef' : coef, 'parent_type' : parent_type, 'feature_name' : best_features})"
   ]
  },
  {
   "cell_type": "code",
   "execution_count": 91,
   "metadata": {},
   "outputs": [],
   "source": [
    "#get top ten coef from nfl\n",
    "nfl = df_coef.sort_values(by = 'coef', ascending = False).head(10).set_index('feature_name')['coef']"
   ]
  },
  {
   "cell_type": "code",
   "execution_count": 92,
   "metadata": {},
   "outputs": [],
   "source": [
    "#get top ten coef from football\n",
    "football = df_coef.sort_values(by = 'coef', ascending = True).head(10).set_index('feature_name')['coef']"
   ]
  },
  {
   "cell_type": "code",
   "execution_count": 93,
   "metadata": {},
   "outputs": [],
   "source": [
    "#concatenate football and nfl\n",
    "df_coef = pd.concat([football, nfl],sort = False)"
   ]
  },
  {
   "cell_type": "code",
   "execution_count": 94,
   "metadata": {},
   "outputs": [],
   "source": [
    "df_coef = pd.DataFrame(df_coef)"
   ]
  },
  {
   "cell_type": "code",
   "execution_count": 95,
   "metadata": {},
   "outputs": [],
   "source": [
    "#get featured name as column in dataframe\n",
    "df_coef['feature_names'] = df_coef.index"
   ]
  },
  {
   "cell_type": "code",
   "execution_count": 96,
   "metadata": {
    "scrolled": true
   },
   "outputs": [
    {
     "data": {
      "text/html": [
       "<div>\n",
       "<style scoped>\n",
       "    .dataframe tbody tr th:only-of-type {\n",
       "        vertical-align: middle;\n",
       "    }\n",
       "\n",
       "    .dataframe tbody tr th {\n",
       "        vertical-align: top;\n",
       "    }\n",
       "\n",
       "    .dataframe thead th {\n",
       "        text-align: right;\n",
       "    }\n",
       "</style>\n",
       "<table border=\"1\" class=\"dataframe\">\n",
       "  <thead>\n",
       "    <tr style=\"text-align: right;\">\n",
       "      <th></th>\n",
       "      <th>coef</th>\n",
       "      <th>feature_names</th>\n",
       "    </tr>\n",
       "    <tr>\n",
       "      <th>feature_name</th>\n",
       "      <th></th>\n",
       "      <th></th>\n",
       "    </tr>\n",
       "  </thead>\n",
       "  <tbody>\n",
       "    <tr>\n",
       "      <th>cvec__happy</th>\n",
       "      <td>3.034262</td>\n",
       "      <td>cvec__happy</td>\n",
       "    </tr>\n",
       "    <tr>\n",
       "      <th>cvec__match</th>\n",
       "      <td>2.214295</td>\n",
       "      <td>cvec__match</td>\n",
       "    </tr>\n",
       "    <tr>\n",
       "      <th>cvec__world</th>\n",
       "      <td>2.123472</td>\n",
       "      <td>cvec__world</td>\n",
       "    </tr>\n",
       "    <tr>\n",
       "      <th>cvec__ucl</th>\n",
       "      <td>2.117543</td>\n",
       "      <td>cvec__ucl</td>\n",
       "    </tr>\n",
       "    <tr>\n",
       "      <th>cvec__messi</th>\n",
       "      <td>2.061793</td>\n",
       "      <td>cvec__messi</td>\n",
       "    </tr>\n",
       "  </tbody>\n",
       "</table>\n",
       "</div>"
      ],
      "text/plain": [
       "                  coef feature_names\n",
       "feature_name                        \n",
       "cvec__happy   3.034262   cvec__happy\n",
       "cvec__match   2.214295   cvec__match\n",
       "cvec__world   2.123472   cvec__world\n",
       "cvec__ucl     2.117543     cvec__ucl\n",
       "cvec__messi   2.061793   cvec__messi"
      ]
     },
     "execution_count": 96,
     "metadata": {},
     "output_type": "execute_result"
    }
   ],
   "source": [
    "df_coef.sort_values(by = 'coef', ascending = False).head()"
   ]
  },
  {
   "cell_type": "code",
   "execution_count": 97,
   "metadata": {},
   "outputs": [
    {
     "data": {
      "text/html": [
       "<div>\n",
       "<style scoped>\n",
       "    .dataframe tbody tr th:only-of-type {\n",
       "        vertical-align: middle;\n",
       "    }\n",
       "\n",
       "    .dataframe tbody tr th {\n",
       "        vertical-align: top;\n",
       "    }\n",
       "\n",
       "    .dataframe thead th {\n",
       "        text-align: right;\n",
       "    }\n",
       "</style>\n",
       "<table border=\"1\" class=\"dataframe\">\n",
       "  <thead>\n",
       "    <tr style=\"text-align: right;\">\n",
       "      <th></th>\n",
       "      <th>coef</th>\n",
       "      <th>feature_names</th>\n",
       "    </tr>\n",
       "    <tr>\n",
       "      <th>feature_name</th>\n",
       "      <th></th>\n",
       "      <th></th>\n",
       "    </tr>\n",
       "  </thead>\n",
       "  <tbody>\n",
       "    <tr>\n",
       "      <th>cvec__quarterbacks</th>\n",
       "      <td>-1.720278</td>\n",
       "      <td>cvec__quarterbacks</td>\n",
       "    </tr>\n",
       "    <tr>\n",
       "      <th>cvec__games</th>\n",
       "      <td>-1.792571</td>\n",
       "      <td>cvec__games</td>\n",
       "    </tr>\n",
       "    <tr>\n",
       "      <th>cvec__patriots</th>\n",
       "      <td>-1.905643</td>\n",
       "      <td>cvec__patriots</td>\n",
       "    </tr>\n",
       "    <tr>\n",
       "      <th>cvec__week</th>\n",
       "      <td>-2.051027</td>\n",
       "      <td>cvec__week</td>\n",
       "    </tr>\n",
       "    <tr>\n",
       "      <th>cvec__nfl</th>\n",
       "      <td>-3.789992</td>\n",
       "      <td>cvec__nfl</td>\n",
       "    </tr>\n",
       "  </tbody>\n",
       "</table>\n",
       "</div>"
      ],
      "text/plain": [
       "                        coef       feature_names\n",
       "feature_name                                    \n",
       "cvec__quarterbacks -1.720278  cvec__quarterbacks\n",
       "cvec__games        -1.792571         cvec__games\n",
       "cvec__patriots     -1.905643      cvec__patriots\n",
       "cvec__week         -2.051027          cvec__week\n",
       "cvec__nfl          -3.789992           cvec__nfl"
      ]
     },
     "execution_count": 97,
     "metadata": {},
     "output_type": "execute_result"
    }
   ],
   "source": [
    "df_coef.sort_values(by = 'coef', ascending = False).tail()"
   ]
  },
  {
   "cell_type": "code",
   "execution_count": 98,
   "metadata": {
    "scrolled": true
   },
   "outputs": [
    {
     "data": {
      "text/plain": [
       "(array([ 0,  1,  2,  3,  4,  5,  6,  7,  8,  9, 10, 11, 12, 13, 14, 15, 16,\n",
       "        17, 18, 19]), <a list of 20 Text yticklabel objects>)"
      ]
     },
     "execution_count": 98,
     "metadata": {},
     "output_type": "execute_result"
    },
    {
     "data": {
      "image/png": "[encoded data removed]",
      "text/plain": [
       "<Figure size 1080x648 with 1 Axes>"
      ]
     },
     "metadata": {
      "needs_background": "light"
     },
     "output_type": "display_data"
    }
   ],
   "source": [
    "plt.figure(figsize=(15,9))\n",
    "sns.barplot( data =df_coef.sort_values(by = 'coef', ascending = False), y = 'feature_names',\n",
    "            x ='coef',palette='RdBu')\n",
    "plt.title(\"Coefficient Chart\", size = 25)\n",
    "plt.xlabel('Coefficient Value',size = 20)\n",
    "plt.ylabel('Coefficient',size = 20)\n",
    "plt.xticks(fontsize=15)\n",
    "plt.yticks(fontsize=15)"
   ]
  },
  {
   "cell_type": "markdown",
   "metadata": {},
   "source": [
    "After getting a look at our coeffiecnt chart, it was very interesting to see the highest coefficient word that tend to lean towards european soccer was happy. With a coefficient of ~3.03, you were almost 20.7 time as likely to be talking about european football rather than american football. All other words that we noticed really made sence to have higher coefficients seeing that 'match', 'world', 'ucl' are all regonized within eurpean soccer circles while'patriots', quarter_backs, 'nfl' are all well known words within american football."
   ]
  },
  {
   "cell_type": "markdown",
   "metadata": {},
   "source": [
    "__Create Confustion Matrix__"
   ]
  },
  {
   "cell_type": "code",
   "execution_count": 99,
   "metadata": {},
   "outputs": [],
   "source": [
    "def pretty_confusion_matrix(y_true, y_pred):\n",
    "    cm = confusion_matrix(y_true, y_pred)\n",
    "    labels = y_true.unique()\n",
    "    labels.sort()\n",
    "    \n",
    "    sns.set(font_scale=1.2)\n",
    "    plt.figure(figsize=(10,4))\n",
    "    sns.heatmap(cm, annot=True, fmt='g', cmap=\"Reds\",xticklabels=labels, yticklabels=labels)\n",
    "    b, t = plt.ylim() \n",
    "    b += 0.5 \n",
    "    t -= 0.5 \n",
    "    plt.ylim(b, t) \n",
    "    plt.title(\"Confusion Matrix\")\n",
    "    plt.xlabel('Predicted Class')\n",
    "    plt.ylabel('True Class')"
   ]
  },
  {
   "cell_type": "code",
   "execution_count": 100,
   "metadata": {},
   "outputs": [
    {
     "name": "stdout",
     "output_type": "stream",
     "text": [
      "[[863  81]\n",
      " [104 501]]\n"
     ]
    }
   ],
   "source": [
    "# Generate confusion matrix.\n",
    "tn, fp, fn, tp = confusion_matrix(y_test,\n",
    "                                  log_preds).ravel()\n",
    "\n",
    "print(confusion_matrix(y_test,\n",
    "                       log_preds))"
   ]
  },
  {
   "cell_type": "code",
   "execution_count": 101,
   "metadata": {},
   "outputs": [
    {
     "name": "stdout",
     "output_type": "stream",
     "text": [
      "Accuracy: 0.8806\n"
     ]
    }
   ],
   "source": [
    "# Accuracy Calc\n",
    "\n",
    "acc = (tp+ tn)/(tp+fn+tn+fp)\n",
    "\n",
    "print(f'Accuracy: {round(acc, 4)}')"
   ]
  },
  {
   "cell_type": "code",
   "execution_count": 102,
   "metadata": {},
   "outputs": [
    {
     "name": "stdout",
     "output_type": "stream",
     "text": [
      "Missclassification: 0.1194\n"
     ]
    }
   ],
   "source": [
    "#Missclassification Calc\n",
    "\n",
    "miss = 1 - acc\n",
    "\n",
    "print(f'Missclassification: {round(miss, 4)}')"
   ]
  },
  {
   "cell_type": "code",
   "execution_count": 103,
   "metadata": {},
   "outputs": [
    {
     "name": "stdout",
     "output_type": "stream",
     "text": [
      "Sensitivity: 0.8281\n"
     ]
    }
   ],
   "source": [
    "# Sensitivity Calc\n",
    "\n",
    "sens = tp/(tp+fn)\n",
    "\n",
    "print(f'Sensitivity: {round(sens, 4)}')"
   ]
  },
  {
   "cell_type": "code",
   "execution_count": 104,
   "metadata": {},
   "outputs": [
    {
     "name": "stdout",
     "output_type": "stream",
     "text": [
      "Specificity: 0.9142\n"
     ]
    }
   ],
   "source": [
    "# Specificity Calc\n",
    "\n",
    "spec = tn/(tn+fp)\n",
    "\n",
    "print(f'Specificity: {round(spec, 4)}')"
   ]
  },
  {
   "cell_type": "code",
   "execution_count": 105,
   "metadata": {},
   "outputs": [
    {
     "data": {
      "image/png": "[encoded data removed]",
      "text/plain": [
       "<Figure size 720x288 with 2 Axes>"
      ]
     },
     "metadata": {},
     "output_type": "display_data"
    }
   ],
   "source": [
    "pretty_confusion_matrix(y_test,log_preds)"
   ]
  },
  {
   "cell_type": "markdown",
   "metadata": {},
   "source": [
    "Our confusion matrix above shows how well our words are being classified. Words that are locatede in the bottom right (also our True Positives) show how well our model is at evaluating words that are talking about euuropean football are also shown that they are being predicted to talk about european football while onthe oppsoite end of the chart (True Negatives) show words that are talking about american football are also being predicted to talk about american football."
   ]
  },
  {
   "cell_type": "markdown",
   "metadata": {},
   "source": [
    "__Create Histogram of Football and NFL (0 and 1) as another means of visualizing confusion matriz__"
   ]
  },
  {
   "cell_type": "code",
   "execution_count": null,
   "metadata": {},
   "outputs": [],
   "source": []
  },
  {
   "cell_type": "code",
   "execution_count": 106,
   "metadata": {},
   "outputs": [],
   "source": [
    "def df_pred(model):\n",
    "    pred_proba = [i[1] for i in model.predict_proba(X_test)]\n",
    "\n",
    "    pred_df = pd.DataFrame({'true_values': y_test,\n",
    "                        'pred_probs':pred_proba})\n",
    "    return pred_df"
   ]
  },
  {
   "cell_type": "code",
   "execution_count": 107,
   "metadata": {},
   "outputs": [],
   "source": [
    " pred_df = df_pred(pipe_log_gridsearch)"
   ]
  },
  {
   "cell_type": "code",
   "execution_count": 108,
   "metadata": {},
   "outputs": [
    {
     "data": {
      "text/html": [
       "<div>\n",
       "<style scoped>\n",
       "    .dataframe tbody tr th:only-of-type {\n",
       "        vertical-align: middle;\n",
       "    }\n",
       "\n",
       "    .dataframe tbody tr th {\n",
       "        vertical-align: top;\n",
       "    }\n",
       "\n",
       "    .dataframe thead th {\n",
       "        text-align: right;\n",
       "    }\n",
       "</style>\n",
       "<table border=\"1\" class=\"dataframe\">\n",
       "  <thead>\n",
       "    <tr style=\"text-align: right;\">\n",
       "      <th></th>\n",
       "      <th>true_values</th>\n",
       "      <th>pred_probs</th>\n",
       "    </tr>\n",
       "  </thead>\n",
       "  <tbody>\n",
       "    <tr>\n",
       "      <th>111</th>\n",
       "      <td>0</td>\n",
       "      <td>0.187342</td>\n",
       "    </tr>\n",
       "    <tr>\n",
       "      <th>408</th>\n",
       "      <td>0</td>\n",
       "      <td>0.007902</td>\n",
       "    </tr>\n",
       "    <tr>\n",
       "      <th>414</th>\n",
       "      <td>0</td>\n",
       "      <td>0.547448</td>\n",
       "    </tr>\n",
       "    <tr>\n",
       "      <th>290</th>\n",
       "      <td>1</td>\n",
       "      <td>0.910634</td>\n",
       "    </tr>\n",
       "    <tr>\n",
       "      <th>177</th>\n",
       "      <td>0</td>\n",
       "      <td>0.036080</td>\n",
       "    </tr>\n",
       "  </tbody>\n",
       "</table>\n",
       "</div>"
      ],
      "text/plain": [
       "     true_values  pred_probs\n",
       "111            0    0.187342\n",
       "408            0    0.007902\n",
       "414            0    0.547448\n",
       "290            1    0.910634\n",
       "177            0    0.036080"
      ]
     },
     "execution_count": 108,
     "metadata": {},
     "output_type": "execute_result"
    }
   ],
   "source": [
    "pred_df.head()"
   ]
  },
  {
   "cell_type": "code",
   "execution_count": 109,
   "metadata": {},
   "outputs": [
    {
     "data": {
      "image/png": "[encoded data removed]",
      "text/plain": [
       "<Figure size 720x504 with 1 Axes>"
      ]
     },
     "metadata": {},
     "output_type": "display_data"
    }
   ],
   "source": [
    "plt.figure(figsize = (10,7))\n",
    "\n",
    "\n",
    "sns.distplot(pred_df[pred_df['true_values'] ==0]['pred_probs'],\n",
    "             color=\"skyblue\", \n",
    "             label=\"True Values\", \n",
    "             hist = True,\n",
    "             bins = 20,\n",
    "             kde = False,)\n",
    "sns.distplot(pred_df[pred_df['true_values'] == 1]['pred_probs'], \n",
    "             color=\"red\", \n",
    "             label=\"Sepal Width\", \n",
    "             hist = True, \n",
    "             bins = 20,\n",
    "             kde = False)\n",
    "\n",
    "plt.xlabel('Predicted Probability that Outcome = 1', fontsize = 18)\n",
    "plt.title('Distribution of NFL and Football(Outcome = 1)', fontsize = 22)\n",
    "plt.ylabel('Frequency', fontsize = 18) \n",
    "\n",
    "plt.vlines(x = 0.5,\n",
    "           ymin = 0,\n",
    "           ymax = 400,\n",
    "           color = 'r',\n",
    "           linestyle = '--')\n",
    "\n",
    "plt.annotate(xy = (0.02, 30),\n",
    "             s = 'TN',\n",
    "             size = 20)\n",
    "\n",
    "plt.annotate(xy = (0.37, 0),\n",
    "             s = 'FN',\n",
    "             size = 20)\n",
    "\n",
    "plt.annotate(xy = (0.58, 0),\n",
    "             s = 'FP',\n",
    "             size = 20)\n",
    "\n",
    "plt.annotate(xy = (0.93, 40),\n",
    "             s = 'TP',\n",
    "             size = 20)\n",
    "\n",
    "\n",
    "L =plt.legend(fontsize = 20)\n",
    "L.get_texts()[0].set_text('Football')\n",
    "L.get_texts()[1].set_text('NFL')"
   ]
  },
  {
   "cell_type": "markdown",
   "metadata": {},
   "source": [
    "Our histogram about visually shows how well our words are being seperated as we are looking for seperation of our two distributions. The minimal overlap shows that there arent many words that the model cant distinguish between which type of football is being talked about. This is a postive graph to see when we want to evaluating just so we know our model is performing very well."
   ]
  },
  {
   "cell_type": "markdown",
   "metadata": {},
   "source": [
    "__ROC Curve__"
   ]
  },
  {
   "cell_type": "markdown",
   "metadata": {},
   "source": [
    "For our ROC Curve, we wanted to see how close our curve was to 1 signifying the words are easily seperable"
   ]
  },
  {
   "cell_type": "code",
   "execution_count": 110,
   "metadata": {},
   "outputs": [
    {
     "data": {
      "image/png": "[encoded data removed]",
      "text/plain": [
       "<Figure size 720x504 with 1 Axes>"
      ]
     },
     "metadata": {},
     "output_type": "display_data"
    }
   ],
   "source": [
    "# Create figure.\n",
    "plt.figure(figsize = (10,7))\n",
    "\n",
    "# Create threshold values.\n",
    "thresholds = np.linspace(0, 1, 200)\n",
    "\n",
    "# Define function to calculate SENSITIVITY. (True positive rate.)\n",
    "def TPR(df, true_col, pred_prob_col, threshold):\n",
    "    true_positive = df[(df[true_col] == 1) & (df[pred_prob_col] >= threshold)].shape[0]\n",
    "    false_negative = df[(df[true_col] == 1) & (df[pred_prob_col] < threshold)].shape[0]\n",
    "    return true_positive / (true_positive + false_negative)\n",
    "    \n",
    "\n",
    "# Define function to calculate 1 - SPECIFICITY. (False positive rate.)\n",
    "def FPR(df, true_col, pred_prob_col, threshold):\n",
    "    true_negative = df[(df[true_col] == 0) & (df[pred_prob_col] <= threshold)].shape[0]\n",
    "    false_positive = df[(df[true_col] == 0) & (df[pred_prob_col] > threshold)].shape[0]\n",
    "    return 1 - (true_negative / (true_negative + false_positive))\n",
    "    \n",
    "# Calculate sensitivity & 1-specificity for each threshold between 0 and 1.\n",
    "tpr_values = [TPR(pred_df, 'true_values', 'pred_probs', prob) for prob in thresholds]\n",
    "fpr_values = [FPR(pred_df, 'true_values', 'pred_probs', prob) for prob in thresholds]\n",
    "\n",
    "\n",
    "\n",
    "# Plot ROC curve.\n",
    "plt.plot(fpr_values, # False Positive Rate on X-axis\n",
    "         tpr_values, # True Positive Rate on Y-axis\n",
    "         label='LOG ROC Curve',\n",
    "        color = 'r')\n",
    "\n",
    "\n",
    "# Label axes.\n",
    "plt.title('Receiver Operating Characteristic Curve', fontsize=22)\n",
    "plt.ylabel('Sensitivity', fontsize=18)\n",
    "plt.xlabel('1 - Specificity', fontsize=18)\n",
    "\n",
    "# Plot baseline. (Perfect overlap between the two populations.)\n",
    "plt.plot(np.linspace(0, 1, 200),\n",
    "         np.linspace(0, 1, 200),\n",
    "         label='Baseline',\n",
    "         linestyle='--')\n",
    "\n",
    "# Create legend.\n",
    "plt.legend(fontsize=16);"
   ]
  },
  {
   "cell_type": "code",
   "execution_count": 111,
   "metadata": {},
   "outputs": [
    {
     "data": {
      "text/plain": [
       "0.946572524163048"
      ]
     },
     "execution_count": 111,
     "metadata": {},
     "output_type": "execute_result"
    }
   ],
   "source": [
    "#ROC Score\n",
    "roc_auc_score(pred_df['true_values'],\n",
    "             pred_df ['pred_probs'])"
   ]
  },
  {
   "cell_type": "markdown",
   "metadata": {},
   "source": [
    "If you have an ROC AUC of 1, your positive and negative populations are perfectly separated and your model and this is a perfect model. Our ROC AUC of .946 indicates that our postive and negative populations are 94.6% seperated by our logistic regression model. Our goal with deploying a model is to build a model that has no overlap between the red and blue histograms shown on our probability distribution. The ROC AUC curve illustrates the amount of overlap that exists between our distribution."
   ]
  },
  {
   "cell_type": "markdown",
   "metadata": {},
   "source": [
    "## Conclusion"
   ]
  },
  {
   "cell_type": "markdown",
   "metadata": {},
   "source": [
    "In conclusion, we can say that we were able to build a good model based on key words being used in both reddits. We were able to show a high bias train score along with a very low variance when evaluating that against our test. As we look at our coefficients, we we were able to see several words that, when exponentiated, will tell us how many times likely a word is to appear in that subreddit. When looking at the top ten for each, words you would expect to associate with each sport were there but he most interesting find from this was the word 'happy'. Happy had a coefficient of ~3.03, and when exponentiated, we found out that people using the word happy will be 20.7 times as likely to be talking about football rather then the NFL. When evaluating our Confusion Matrix, several key stats stood out to us:\n",
    "- Accuracy: \n",
    "    88.1%\n",
    "- Misclassification:\n",
    "    11.9%\n",
    "- Sensitivity:\n",
    "\t82.8%\n",
    "- Specificity:\n",
    "\t91.5%\n",
    "\n",
    "With these measurements, we can see how accurately our prediction were against the model we built. We can say we were 88% accurate in predicting the words that went into both the NFL and Football bucket where we misclassified ~12% of them. We can also state that our True positive which represent the words that were actually correlated to football subreddits and they predicted to be part of the football subreddits, scored at a 82.8% accuracy based on all the predicted values that predicted to be in the football subreddit.\n"
   ]
  },
  {
   "cell_type": "markdown",
   "metadata": {},
   "source": [
    "## Recommendations"
   ]
  },
  {
   "cell_type": "markdown",
   "metadata": {},
   "source": [
    "Going forward, the model will fairly predict well and can be implemented to score at a high rate. However, based on the fact that we were only able to pull an estimated 4,700 data points, I don't believe we are ready to roll out this model yet. I would like to first analyze the selftext column that we pulled to see if there are possibly some key words in there that can be pulled. I also believe we should keep searching for various other blogs/ post to see if the same words keep popping up and cross validate those against each other. Once we gain confidence on the key words being used in social media post to see which type of football people are talking about, then we can roll out our model to market. "
   ]
  }
 ],
 "metadata": {
  "kernelspec": {
   "display_name": "Python 3",
   "language": "python",
   "name": "python3"
  },
  "language_info": {
   "codemirror_mode": {
    "name": "ipython",
    "version": 3
   },
   "file_extension": ".py",
   "mimetype": "text/x-python",
   "name": "python",
   "nbconvert_exporter": "python",
   "pygments_lexer": "ipython3",
   "version": "3.7.5"
  },
  "toc": {
   "base_numbering": 1,
   "nav_menu": {},
   "number_sections": true,
   "sideBar": true,
   "skip_h1_title": false,
   "title_cell": "Table of Contents",
   "title_sidebar": "Contents",
   "toc_cell": false,
   "toc_position": {
    "height": "calc(100% - 180px)",
    "left": "10px",
    "top": "150px",
    "width": "252px"
   },
   "toc_section_display": true,
   "toc_window_display": false
  }
 },
 "nbformat": 4,
 "nbformat_minor": 2
}
